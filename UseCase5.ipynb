{
 "cells": [
  {
   "cell_type": "markdown",
   "metadata": {},
   "source": [
    "## In this use-case, we demonstrate the capability of the CCP-tool to learn and predict volumetric Projection Density data, derived at 200 cubic micrometer resolution from wild-type tract tracing experiments of the Allen Mouse Brain Connectivity Atlas, using volumetric gene expression data, derived at the same resolution from the Allen Mouse Brain Atlas ISH coronal experiments.\n"
   ]
  },
  {
   "cell_type": "markdown",
   "metadata": {},
   "source": [
    "## Beginnings:\n",
    "### Load all necessary ingredients from the storage"
   ]
  },
  {
   "cell_type": "markdown",
   "metadata": {},
   "source": [
    "## Step 0: \n",
    "### Import the libraries / initialize the pipeline"
   ]
  },
  {
   "cell_type": "code",
   "execution_count": 1,
   "metadata": {},
   "outputs": [
    {
     "name": "stdout",
     "output_type": "stream",
     "text": [
      "importing Jupyter notebook from Allen_API_Library.ipynb\n",
      "importing Jupyter notebook from Allen_API_Library.ipynb\n"
     ]
    }
   ],
   "source": [
    "import os\n",
    "from subprocess import call\n",
    "import pickle as pk\n",
    "from IPython.display import clear_output\n",
    "current_dir = os.listdir('./')\n",
    "for path in os.listdir('../25 3 2019/'):\n",
    "    if os.path.islink(path) is not True and path not in current_dir:\n",
    "        call(['ln','-s','../25 3 2019/'+ path, path])        \n",
    "from cfg import *\n",
    "os.chdir('../CCP_Collab_Backup_2/')\n",
    "import PrimaryLibrary as PL\n",
    "imp.reload(PL)\n",
    "import MorphologyLibrary as MLab\n",
    "imp.reload(MLab)\n",
    "import Allen_API_Library as API\n",
    "imp.reload(API)\n",
    "MesoPred = PL.MesoconnectomePredictor()"
   ]
  },
  {
   "cell_type": "markdown",
   "metadata": {},
   "source": [
    "## Step I: Initialization \n",
    "### Load and Preprocess Volumetric data"
   ]
  },
  {
   "cell_type": "code",
   "execution_count": 4,
   "metadata": {},
   "outputs": [
    {
     "name": "stdout",
     "output_type": "stream",
     "text": [
      "Downloading/storing volumetric gene expression data\n",
      "Gene expression parsing has been complete\n",
      "Downloading/storing wild-type projection density data\n",
      "Projection density parsing has been completed\n",
      "downsampling the projection density data down to 200 microns\n",
      "(132, 80, 114, 498)\n",
      "upsampling has been completed!\n",
      "Time elapsed: 0.963355183601\n",
      "(4104, 49742) (498, 49742) (4104, 49742) (498, 49742)\n"
     ]
    }
   ],
   "source": [
    "from scipy.io import loadmat\n",
    "import subprocess\n",
    "\n",
    "# removing unncessary files for memory conservation\n",
    "refAtlas_path = 'refAtlas.mat/home/storage/AllenBrainAtlasToolboxVersion2/AllenBrainAtlasToolboxPrime/atlasData/refAtlas.mat'\n",
    "Ref = loadmat(refAtlas_path)\n",
    "VoxelDict = loadmat('ExpEnergy.mat')\n",
    "subprocess.call(['rm','*.mat'])\n",
    "\n",
    "print 'Downloading/storing volumetric gene expression data'\n",
    "VolGeneExp,Non_zero_voxels,vox_genes,vox_gene_ids,dims = API.Read_v2_Data(VoxelDict,Ref)\n",
    "pk.dump(VolGeneExp, open('VolGeneExp.pkl','wb'))\n",
    "print 'Gene expression parsing has been complete'\n",
    "\n",
    "print 'Downloading/storing wild-type projection density data'\n",
    "WTMeta, VolProjDensity = API.ReadConnectivityData()\n",
    "ProjPerExp = h5py.File('ProjPerExp.hdf5','r')['dataset1'][()]\n",
    "print 'Projection density parsing has been completed'\n",
    " \n",
    "# In this step we downsample the Projection Density data to 200 cubic micrometers, \n",
    "# in order to be in the same scale as the gene expression data\n",
    "print 'downsampling the projection density data down to 200 microns'\n",
    "VolProjDensity_200 = PL.Resample_Voxels(VolProjDensity, resolution = 200)\n",
    "\n",
    "InputData = [VolGeneExp,VolProjDensity_200]\n",
    "# In this step, the data are being z-scored per feature (gene, projection from source)\n",
    "Data_Modality, Data_Modality_sc = PL.VolPreProcessing(InputData,Non_zero_voxels)\n",
    "\n",
    "print Data_Modality[0].shape, Data_Modality[1].shape,Data_Modality_sc[0].shape, Data_Modality_sc[1].shape "
   ]
  },
  {
   "cell_type": "markdown",
   "metadata": {},
   "source": [
    "## Step II: Sparse decomposition\n",
    "### Using Dictionary Learning and Sparse Coding (DLSC) to decompose both data modalities into basis vectors with sparse representations of genes and projections from sources"
   ]
  },
  {
   "cell_type": "markdown",
   "metadata": {},
   "source": [
    "#### To speed-up the demonstration, the resulting dictionaries are being loaded through pickle files.   \n",
    "#### In case that the full iteration of the process is desired, click on the cell below and change its form from \"Raw NBConvert\" to \"Code\" "
   ]
  },
  {
   "cell_type": "code",
   "execution_count": 12,
   "metadata": {},
   "outputs": [
    {
     "name": "stdout",
     "output_type": "stream",
     "text": [
      "((4104, 49742), (498, 49742))\n"
     ]
    }
   ],
   "source": [
    "from sklearn.decomposition import MiniBatchDictionaryLearning\n",
    "dlsc  = MiniBatchDictionaryLearning(n_components = 200, alpha = 1.0, \n",
    "                           fit_algorithm = 'cd', transform_algorithm = 'lasso_cd',\n",
    "                           random_state = 123)\n",
    "                                          \n",
    "\n",
    "print(Data_Modality_sc[0].shape,Data_Modality_sc[1].shape)\n",
    "\n",
    "X = np.asfortranarray(Data_Modality_sc[0])\n",
    "dlsc.fit(X)\n",
    "G_Atoms = dlsc.components_\n",
    "G_Code  = dlsc.transform(X)\n",
    "                                          \n",
    "pk.dump(G_Atoms,open('Atoms_4_GeneVol.pkl','wb'))\n",
    "pk.dump(G_Code,open('Code_4_GeneVol.pkl','wb'))      \n",
    "\n",
    "X2 = np.asfortranarray(Data_Modality_sc[1])\n",
    "dlsc.fit(X2)\n",
    "P_Atoms = dlsc.components_\n",
    "P_Code  = dlsc.transform(X2)\n",
    "                                          \n",
    "pk.dump(P_Atoms,open('Atoms_4_ProjVol.pkl','wb'))\n",
    "pk.dump(P_Code,open('Code_4_ProjVol.pkl','wb'))       \n"
   ]
  },
  {
   "cell_type": "code",
   "execution_count": 10,
   "metadata": {},
   "outputs": [],
   "source": [
    "G_Atoms = pk.load(open('Atoms_4_GeneVol.pkl','rb'))\n",
    "P_Atoms = pk.load(open('Atoms_4_ProjVol.pkl','rb'))\n",
    "G_Code = pk.load(open('Code_4_GeneVol.pkl','rb'))\n",
    "P_Code = pk.load(open('Code_4_ProjVol.pkl','rb'))\n"
   ]
  },
  {
   "cell_type": "markdown",
   "metadata": {},
   "source": [
    "## Part III: Two-fold assessment of DLSC: \n",
    "### 1) Evaluate the reconstuction error of the method for both modalities  \n",
    "### 2) Use the gene dictionaries to predict the projection patterns with the CCP tool and assess the generalization performances of all models"
   ]
  },
  {
   "cell_type": "code",
   "execution_count": 11,
   "metadata": {},
   "outputs": [
    {
     "name": "stdout",
     "output_type": "stream",
     "text": [
      "Prediction from dictionary r2 score (total): 0.0057812751999\n"
     ]
    },
    {
     "data": {
      "image/png": "[encoded data removed]",
      "text/plain": [
       "<Figure size 1152x432 with 1 Axes>"
      ]
     },
     "metadata": {
      "needs_background": "light"
     },
     "output_type": "display_data"
    }
   ],
   "source": [
    "# Step 1: Reconstruct the original volumetric arrays\n",
    "RecMod1 = np.matmul(G_Code,G_Atoms)\n",
    "RecMod2 = np.matmul(P_Code,P_Atoms)\n",
    "\n",
    "# Step 3: estimate the r2 of explained variance by the reconstructed gene expression and projection density data\n",
    "#         to the original data\n",
    "print 'Gene reconstruction r2 score: {}'.format(metrics.r2_score(Data_Modality_sc[0],RecMod1))\n",
    "print 'Projection reconstruction r2 score: {}'.format(metrics.r2_score(Data_Modality_sc[1],RecMod2))\n",
    "\n",
    "# Step 4: predict projection density from mixed dictionaries\n",
    "Y_dict_proj, r2_dict_proj, mdls_dict_proj = PL.GeneralizedCCP(G_Atoms.T,Data_Modality_sc[1].T, style = 'all', n_jobs = 1)\n",
    "print 'Prediction from dictionary r2 score (total): {}'.format(metrics.r2_score(Data_Modality_sc[1].T,Y_dict_proj))\n",
    "\n",
    "# Step 5: plot the results\n",
    "r2_proj_dict = metrics.r2_score(Data_Modality_sc[1].T,Y_dict_proj, multioutput = 'raw_values')\n",
    "input_for_plot = [r2_proj_dict]\n",
    "x_ticks = ['DLSC-based predictions']\n",
    "y_ticks = np.arange(0,1.1,0.2)\n",
    "PL.Custom_Boxplot(input_for_plot,x_ticks = x_ticks, y_ticks = y_ticks, y_label = r'$r^2$', \\\n",
    "                  title = 'r2 distribution across injections')"
   ]
  }
 ],
 "metadata": {
  "kernelspec": {
   "display_name": "Python 2",
   "language": "python",
   "name": "python2"
  },
  "language_info": {
   "codemirror_mode": {
    "name": "ipython",
    "version": 2
   },
   "file_extension": ".py",
   "mimetype": "text/x-python",
   "name": "python",
   "nbconvert_exporter": "python",
   "pygments_lexer": "ipython2",
   "version": "2.7.16"
  }
 },
 "nbformat": 4,
 "nbformat_minor": 2
}
