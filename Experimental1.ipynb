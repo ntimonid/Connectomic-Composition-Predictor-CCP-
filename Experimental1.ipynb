{
 "cells": [
  {
   "cell_type": "code",
   "execution_count": 51,
   "metadata": {},
   "outputs": [],
   "source": [
    "from cfg import *"
   ]
  },
  {
   "cell_type": "code",
   "execution_count": 52,
   "metadata": {},
   "outputs": [],
   "source": [
    "import rpy2"
   ]
  },
  {
   "cell_type": "code",
   "execution_count": 76,
   "metadata": {},
   "outputs": [],
   "source": [
    "import PrimaryLibrary as PL\n",
    "imp.reload(PL)\n",
    "\n",
    "#import Allen_API_Library as PrL\n",
    "#imp.reload(PrL)\n",
    "\n",
    "clear_output()"
   ]
  },
  {
   "cell_type": "markdown",
   "metadata": {},
   "source": [
    "### Update the MesoPred params with information regarding subcortical and thalamic indices"
   ]
  },
  {
   "cell_type": "raw",
   "metadata": {},
   "source": [
    "from allensdk.api.queries.ontologies_api import OntologiesApi\n",
    "\n",
    "oapi = OntologiesApi()\n",
    "mcc = MouseConnectivityCache()\n",
    "structure_tree = mcc.get_structure_tree()\n",
    "\n",
    "# get the ids of all the structure sets in the tree\n",
    "structure_set_ids = structure_tree.get_structure_sets()\n",
    "\n",
    "# query the API for information on those structure sets\n",
    "pd.DataFrame(oapi.get_structure_sets(structure_set_ids))\n",
    "\n",
    "summary_structures = structure_tree.get_structures_by_set_id([687527670])\n",
    "subcortical_structures = []\n",
    "thalamic_structures    = []\n",
    "cortical_structures    = []\n",
    "for val in summary_structures:\n",
    "    if val['acronym'] == 'TH':\n",
    "        kids = structure_tree.descendant_ids([val['id']])\n",
    "        thalamic_structures.extend(kids[0])\n",
    "    if val['acronym'] == 'Isocortex': \n",
    "        ids = structure_tree.descendant_ids([val['id']])\n",
    "        cortical_structures.extend(kids[0])\n",
    "    else:\n",
    "        kids = structure_tree.descendant_ids([val['id']])\n",
    "        subcortical_structures.extend(kids[0])\n",
    "     \n",
    "with open('structures.csv','rb') as fp:\n",
    "    structure       = PL.readtable(fp) \n",
    "    struct_idx_dict = {val:idx for idx,val in enumerate(structure['id'])}\n",
    "for idx,val in enumerate(thalamic_structures):\n",
    "    thalamic_structures[idx] = struct_idx_dict[str(val)]\n",
    "for idx,val in enumerate(subcortical_structures):    \n",
    "    subcortical_structures[idx] = struct_idx_dict[str(val)] \n",
    "for idx,val in enumerate(cortical_structures):    \n",
    "    cortical_structures[idx] = struct_idx_dict[str(val)] \n",
    "    \n",
    "MesoPred.targetprofiles['cortical structures'] = cortical_structures    "
   ]
  },
  {
   "cell_type": "raw",
   "metadata": {},
   "source": [
    "def render_mpl_table(data, col_width = 13.0, row_height = 0.625, font_size=14,\n",
    "                     header_color='#40466e', row_colors=['#f1f1f2', 'w'], edge_color='w',\n",
    "                     bbox=[0, 0, 1, 1], header_columns=0,\n",
    "                     ax=None, **kwargs):\n",
    "    if ax is None: \n",
    "        size = (np.array(data.shape[::-1]) + np.array([0, 1])) * np.array([col_width, row_height])\n",
    "        fig, ax = plt.subplots(figsize=size)\n",
    "        ax.axis('off')\n",
    "     \n",
    "    mpl_table = ax.table(cellText=data.values, bbox=bbox, colLabels=data.columns, **kwargs)\n",
    "    mpl_table.auto_set_font_size(False)\n",
    "    mpl_table.set_fontsize(font_size)\n",
    "\n",
    "    for k, cell in  six.iteritems(mpl_table._cells):\n",
    "        cell.set_edgecolor(edge_color)\n",
    "        if k[0] == 0 or k[1] < header_columns:\n",
    "            cell.set_text_props(weight='bold', color='w')\n",
    "            cell.set_facecolor(header_color)\n",
    "        else:\n",
    "            cell.set_facecolor(row_colors[k[0]%len(row_colors) ])\n",
    "    return ax"
   ]
  },
  {
   "cell_type": "code",
   "execution_count": 62,
   "metadata": {},
   "outputs": [],
   "source": [
    "GeneExp        = h5py.File('G_Exp.hdf5', 'r')['dataset1']\n",
    "ConDict        = pk.load(open('CreLineDict.pkl','rb'))"
   ]
  },
  {
   "cell_type": "code",
   "execution_count": 77,
   "metadata": {},
   "outputs": [],
   "source": [
    "MesoPred = PL.MesoconnectomePredictor()\n",
    "a,b,c,d  = MesoPred.PreProcessing(GeneExp[MesoPred.params['leaf_keys'],:], \n",
    "                                  MesoPred.params,\n",
    "                                  ConDict['wild_type']['ConMat'][MesoPred.params['leaf_keys'],:])\n",
    "clear_output()"
   ]
  },
  {
   "cell_type": "code",
   "execution_count": 21,
   "metadata": {},
   "outputs": [],
   "source": [
    "ClfResults_ridge = {}; ridge_pred = {}\n",
    "MesoPred.params           = pk.load(open('updated_params.pkl','rb'))\n",
    "for key in ConDict.keys():\n",
    "    if os.path.isfile('saves/' + key + '_all_results' + '_ridge.pkl') == True:\n",
    "        infile = 'saves/' + key + '_all_results' + '_ridge.pkl'\n",
    "        print infile\n",
    "        tmp = pk.load(open(infile,'r'))\n",
    "        ClfResults_ridge[key] = {key:val for key,val in tmp.items()}\n",
    "         \n",
    "clear_output()      "
   ]
  },
  {
   "cell_type": "code",
   "execution_count": 7,
   "metadata": {},
   "outputs": [],
   "source": [
    " GeneMeta       = pk.load(open('GeneMeta.pkl','r'))"
   ]
  },
  {
   "cell_type": "code",
   "execution_count": 9,
   "metadata": {},
   "outputs": [
    {
     "name": "stdout",
     "output_type": "stream",
     "text": [
      "Nr5a1-Cre 0.91766210974 0.0517240864481\n"
     ]
    },
    {
     "data": {
      "image/png": "[encoded data removed]",
      "text/plain": [
       "<Figure size 720x432 with 1 Axes>"
      ]
     },
     "metadata": {
      "needs_background": "light"
     },
     "output_type": "display_data"
    },
    {
     "name": "stdout",
     "output_type": "stream",
     "text": [
      "Scnn1a-Tg3-Cre 0.902071005917 0.0439812243577\n"
     ]
    },
    {
     "data": {
      "image/png": "[encoded data removed]",
      "text/plain": [
       "<Figure size 720x432 with 1 Axes>"
      ]
     },
     "metadata": {
      "needs_background": "light"
     },
     "output_type": "display_data"
    },
    {
     "name": "stdout",
     "output_type": "stream",
     "text": [
      "Ntsr1-Cre_GN220 0.868289137711 0.0360290543184\n"
     ]
    },
    {
     "data": {
      "image/png": "[encoded data removed]",
      "text/plain": [
       "<Figure size 720x432 with 1 Axes>"
      ]
     },
     "metadata": {
      "needs_background": "light"
     },
     "output_type": "display_data"
    },
    {
     "name": "stdout",
     "output_type": "stream",
     "text": [
      "Emx1-IRES-Cre 0.934958520332 0.0344214145768\n"
     ]
    },
    {
     "data": {
      "image/png": "[encoded data removed]",
      "text/plain": [
       "<Figure size 720x432 with 1 Axes>"
      ]
     },
     "metadata": {
      "needs_background": "light"
     },
     "output_type": "display_data"
    },
    {
     "name": "stdout",
     "output_type": "stream",
     "text": [
      "Efr3a-Cre_NO108 0.903911900066 0.0408967978584\n"
     ]
    },
    {
     "data": {
      "image/png": "[encoded data removed]",
      "text/plain": [
       "<Figure size 720x432 with 1 Axes>"
      ]
     },
     "metadata": {
      "needs_background": "light"
     },
     "output_type": "display_data"
    },
    {
     "name": "stdout",
     "output_type": "stream",
     "text": [
      "Rbp4-Cre_KL100 0.918715759969 0.0403883940322\n"
     ]
    },
    {
     "ename": "KeyboardInterrupt",
     "evalue": "",
     "output_type": "error",
     "traceback": [
      "\u001b[0;31m---------------------------------------------------------------------------\u001b[0m",
      "\u001b[0;31mKeyboardInterrupt\u001b[0m                         Traceback (most recent call last)",
      "\u001b[0;32m<ipython-input-9-599f75cd1dac>\u001b[0m in \u001b[0;36m<module>\u001b[0;34m()\u001b[0m\n\u001b[1;32m     48\u001b[0m     \u001b[0mplt\u001b[0m\u001b[0;34m.\u001b[0m\u001b[0msavefig\u001b[0m\u001b[0;34m(\u001b[0m\u001b[0;34m'paper1_figures/regression_accuracy_figures/'\u001b[0m \u001b[0;34m+\u001b[0m \u001b[0mMetaInfo\u001b[0m\u001b[0;34m[\u001b[0m\u001b[0;34m'save_file'\u001b[0m\u001b[0;34m]\u001b[0m\u001b[0;34m)\u001b[0m\u001b[0;34m\u001b[0m\u001b[0m\n\u001b[1;32m     49\u001b[0m     \u001b[0mplt\u001b[0m\u001b[0;34m.\u001b[0m\u001b[0msavefig\u001b[0m\u001b[0;34m(\u001b[0m\u001b[0;34m'paper1_figures/regression_accuracy_figures/'\u001b[0m \u001b[0;34m+\u001b[0m \u001b[0mMetaInfo\u001b[0m\u001b[0;34m[\u001b[0m\u001b[0;34m'save_file2'\u001b[0m\u001b[0;34m]\u001b[0m\u001b[0;34m)\u001b[0m\u001b[0;34m\u001b[0m\u001b[0m\n\u001b[0;32m---> 50\u001b[0;31m     \u001b[0mplt\u001b[0m\u001b[0;34m.\u001b[0m\u001b[0mshow\u001b[0m\u001b[0;34m(\u001b[0m\u001b[0mblock\u001b[0m \u001b[0;34m=\u001b[0m \u001b[0mFalse\u001b[0m\u001b[0;34m)\u001b[0m\u001b[0;34m\u001b[0m\u001b[0m\n\u001b[0m\u001b[1;32m     51\u001b[0m     \u001b[0mplt\u001b[0m\u001b[0;34m.\u001b[0m\u001b[0mpause\u001b[0m\u001b[0;34m(\u001b[0m\u001b[0;36m1\u001b[0m\u001b[0;34m)\u001b[0m\u001b[0;34m\u001b[0m\u001b[0m\n\u001b[1;32m     52\u001b[0m     \u001b[0mplt\u001b[0m\u001b[0;34m.\u001b[0m\u001b[0mclose\u001b[0m\u001b[0;34m(\u001b[0m\u001b[0;34m)\u001b[0m\u001b[0;34m\u001b[0m\u001b[0m\n",
      "\u001b[0;32m/home/ntimonidis/anaconda2/lib/python2.7/site-packages/matplotlib/pyplot.pyc\u001b[0m in \u001b[0;36mshow\u001b[0;34m(*args, **kw)\u001b[0m\n\u001b[1;32m    251\u001b[0m     \"\"\"\n\u001b[1;32m    252\u001b[0m     \u001b[0;32mglobal\u001b[0m \u001b[0m_show\u001b[0m\u001b[0;34m\u001b[0m\u001b[0m\n\u001b[0;32m--> 253\u001b[0;31m     \u001b[0;32mreturn\u001b[0m \u001b[0m_show\u001b[0m\u001b[0;34m(\u001b[0m\u001b[0;34m*\u001b[0m\u001b[0margs\u001b[0m\u001b[0;34m,\u001b[0m \u001b[0;34m**\u001b[0m\u001b[0mkw\u001b[0m\u001b[0;34m)\u001b[0m\u001b[0;34m\u001b[0m\u001b[0m\n\u001b[0m\u001b[1;32m    254\u001b[0m \u001b[0;34m\u001b[0m\u001b[0m\n\u001b[1;32m    255\u001b[0m \u001b[0;34m\u001b[0m\u001b[0m\n",
      "\u001b[0;32m/home/ntimonidis/anaconda2/lib/python2.7/site-packages/ipykernel/pylab/backend_inline.pyc\u001b[0m in \u001b[0;36mshow\u001b[0;34m(close, block)\u001b[0m\n\u001b[1;32m     37\u001b[0m             display(\n\u001b[1;32m     38\u001b[0m                 \u001b[0mfigure_manager\u001b[0m\u001b[0;34m.\u001b[0m\u001b[0mcanvas\u001b[0m\u001b[0;34m.\u001b[0m\u001b[0mfigure\u001b[0m\u001b[0;34m,\u001b[0m\u001b[0;34m\u001b[0m\u001b[0m\n\u001b[0;32m---> 39\u001b[0;31m                 \u001b[0mmetadata\u001b[0m\u001b[0;34m=\u001b[0m\u001b[0m_fetch_figure_metadata\u001b[0m\u001b[0;34m(\u001b[0m\u001b[0mfigure_manager\u001b[0m\u001b[0;34m.\u001b[0m\u001b[0mcanvas\u001b[0m\u001b[0;34m.\u001b[0m\u001b[0mfigure\u001b[0m\u001b[0;34m)\u001b[0m\u001b[0;34m\u001b[0m\u001b[0m\n\u001b[0m\u001b[1;32m     40\u001b[0m             )\n\u001b[1;32m     41\u001b[0m     \u001b[0;32mfinally\u001b[0m\u001b[0;34m:\u001b[0m\u001b[0;34m\u001b[0m\u001b[0m\n",
      "\u001b[0;32m/home/ntimonidis/anaconda2/lib/python2.7/site-packages/IPython/core/display.pyc\u001b[0m in \u001b[0;36mdisplay\u001b[0;34m(*objs, **kwargs)\u001b[0m\n\u001b[1;32m    309\u001b[0m             \u001b[0mpublish_display_data\u001b[0m\u001b[0;34m(\u001b[0m\u001b[0mdata\u001b[0m\u001b[0;34m=\u001b[0m\u001b[0mobj\u001b[0m\u001b[0;34m,\u001b[0m \u001b[0mmetadata\u001b[0m\u001b[0;34m=\u001b[0m\u001b[0mmetadata\u001b[0m\u001b[0;34m,\u001b[0m \u001b[0;34m**\u001b[0m\u001b[0mkwargs\u001b[0m\u001b[0;34m)\u001b[0m\u001b[0;34m\u001b[0m\u001b[0m\n\u001b[1;32m    310\u001b[0m         \u001b[0;32melse\u001b[0m\u001b[0;34m:\u001b[0m\u001b[0;34m\u001b[0m\u001b[0m\n\u001b[0;32m--> 311\u001b[0;31m             \u001b[0mformat_dict\u001b[0m\u001b[0;34m,\u001b[0m \u001b[0mmd_dict\u001b[0m \u001b[0;34m=\u001b[0m \u001b[0mformat\u001b[0m\u001b[0;34m(\u001b[0m\u001b[0mobj\u001b[0m\u001b[0;34m,\u001b[0m \u001b[0minclude\u001b[0m\u001b[0;34m=\u001b[0m\u001b[0minclude\u001b[0m\u001b[0;34m,\u001b[0m \u001b[0mexclude\u001b[0m\u001b[0;34m=\u001b[0m\u001b[0mexclude\u001b[0m\u001b[0;34m)\u001b[0m\u001b[0;34m\u001b[0m\u001b[0m\n\u001b[0m\u001b[1;32m    312\u001b[0m             \u001b[0;32mif\u001b[0m \u001b[0;32mnot\u001b[0m \u001b[0mformat_dict\u001b[0m\u001b[0;34m:\u001b[0m\u001b[0;34m\u001b[0m\u001b[0m\n\u001b[1;32m    313\u001b[0m                 \u001b[0;31m# nothing to display (e.g. _ipython_display_ took over)\u001b[0m\u001b[0;34m\u001b[0m\u001b[0;34m\u001b[0m\u001b[0m\n",
      "\u001b[0;32m/home/ntimonidis/anaconda2/lib/python2.7/site-packages/IPython/core/formatters.pyc\u001b[0m in \u001b[0;36mformat\u001b[0;34m(self, obj, include, exclude)\u001b[0m\n\u001b[1;32m    171\u001b[0m             \u001b[0mmd\u001b[0m \u001b[0;34m=\u001b[0m \u001b[0mNone\u001b[0m\u001b[0;34m\u001b[0m\u001b[0m\n\u001b[1;32m    172\u001b[0m             \u001b[0;32mtry\u001b[0m\u001b[0;34m:\u001b[0m\u001b[0;34m\u001b[0m\u001b[0m\n\u001b[0;32m--> 173\u001b[0;31m                 \u001b[0mdata\u001b[0m \u001b[0;34m=\u001b[0m \u001b[0mformatter\u001b[0m\u001b[0;34m(\u001b[0m\u001b[0mobj\u001b[0m\u001b[0;34m)\u001b[0m\u001b[0;34m\u001b[0m\u001b[0m\n\u001b[0m\u001b[1;32m    174\u001b[0m             \u001b[0;32mexcept\u001b[0m\u001b[0;34m:\u001b[0m\u001b[0;34m\u001b[0m\u001b[0m\n\u001b[1;32m    175\u001b[0m                 \u001b[0;31m# FIXME: log the exception\u001b[0m\u001b[0;34m\u001b[0m\u001b[0;34m\u001b[0m\u001b[0m\n",
      "\u001b[0;32m<decorator-gen-9>\u001b[0m in \u001b[0;36m__call__\u001b[0;34m(self, obj)\u001b[0m\n",
      "\u001b[0;32m/home/ntimonidis/anaconda2/lib/python2.7/site-packages/IPython/core/formatters.pyc\u001b[0m in \u001b[0;36mcatch_format_error\u001b[0;34m(method, self, *args, **kwargs)\u001b[0m\n\u001b[1;32m    215\u001b[0m     \u001b[0;34m\"\"\"show traceback on failed format call\"\"\"\u001b[0m\u001b[0;34m\u001b[0m\u001b[0m\n\u001b[1;32m    216\u001b[0m     \u001b[0;32mtry\u001b[0m\u001b[0;34m:\u001b[0m\u001b[0;34m\u001b[0m\u001b[0m\n\u001b[0;32m--> 217\u001b[0;31m         \u001b[0mr\u001b[0m \u001b[0;34m=\u001b[0m \u001b[0mmethod\u001b[0m\u001b[0;34m(\u001b[0m\u001b[0mself\u001b[0m\u001b[0;34m,\u001b[0m \u001b[0;34m*\u001b[0m\u001b[0margs\u001b[0m\u001b[0;34m,\u001b[0m \u001b[0;34m**\u001b[0m\u001b[0mkwargs\u001b[0m\u001b[0;34m)\u001b[0m\u001b[0;34m\u001b[0m\u001b[0m\n\u001b[0m\u001b[1;32m    218\u001b[0m     \u001b[0;32mexcept\u001b[0m \u001b[0mNotImplementedError\u001b[0m\u001b[0;34m:\u001b[0m\u001b[0;34m\u001b[0m\u001b[0m\n\u001b[1;32m    219\u001b[0m         \u001b[0;31m# don't warn on NotImplementedErrors\u001b[0m\u001b[0;34m\u001b[0m\u001b[0;34m\u001b[0m\u001b[0m\n",
      "\u001b[0;32m/home/ntimonidis/anaconda2/lib/python2.7/site-packages/IPython/core/formatters.pyc\u001b[0m in \u001b[0;36m__call__\u001b[0;34m(self, obj)\u001b[0m\n\u001b[1;32m    332\u001b[0m                 \u001b[0;32mpass\u001b[0m\u001b[0;34m\u001b[0m\u001b[0m\n\u001b[1;32m    333\u001b[0m             \u001b[0;32melse\u001b[0m\u001b[0;34m:\u001b[0m\u001b[0;34m\u001b[0m\u001b[0m\n\u001b[0;32m--> 334\u001b[0;31m                 \u001b[0;32mreturn\u001b[0m \u001b[0mprinter\u001b[0m\u001b[0;34m(\u001b[0m\u001b[0mobj\u001b[0m\u001b[0;34m)\u001b[0m\u001b[0;34m\u001b[0m\u001b[0m\n\u001b[0m\u001b[1;32m    335\u001b[0m             \u001b[0;31m# Finally look for special method names\u001b[0m\u001b[0;34m\u001b[0m\u001b[0;34m\u001b[0m\u001b[0m\n\u001b[1;32m    336\u001b[0m             \u001b[0mmethod\u001b[0m \u001b[0;34m=\u001b[0m \u001b[0mget_real_method\u001b[0m\u001b[0;34m(\u001b[0m\u001b[0mobj\u001b[0m\u001b[0;34m,\u001b[0m \u001b[0mself\u001b[0m\u001b[0;34m.\u001b[0m\u001b[0mprint_method\u001b[0m\u001b[0;34m)\u001b[0m\u001b[0;34m\u001b[0m\u001b[0m\n",
      "\u001b[0;32m/home/ntimonidis/anaconda2/lib/python2.7/site-packages/IPython/core/pylabtools.pyc\u001b[0m in \u001b[0;36m<lambda>\u001b[0;34m(fig)\u001b[0m\n\u001b[1;32m    245\u001b[0m \u001b[0;34m\u001b[0m\u001b[0m\n\u001b[1;32m    246\u001b[0m     \u001b[0;32mif\u001b[0m \u001b[0;34m'png'\u001b[0m \u001b[0;32min\u001b[0m \u001b[0mformats\u001b[0m\u001b[0;34m:\u001b[0m\u001b[0;34m\u001b[0m\u001b[0m\n\u001b[0;32m--> 247\u001b[0;31m         \u001b[0mpng_formatter\u001b[0m\u001b[0;34m.\u001b[0m\u001b[0mfor_type\u001b[0m\u001b[0;34m(\u001b[0m\u001b[0mFigure\u001b[0m\u001b[0;34m,\u001b[0m \u001b[0;32mlambda\u001b[0m \u001b[0mfig\u001b[0m\u001b[0;34m:\u001b[0m \u001b[0mprint_figure\u001b[0m\u001b[0;34m(\u001b[0m\u001b[0mfig\u001b[0m\u001b[0;34m,\u001b[0m \u001b[0;34m'png'\u001b[0m\u001b[0;34m,\u001b[0m \u001b[0;34m**\u001b[0m\u001b[0mkwargs\u001b[0m\u001b[0;34m)\u001b[0m\u001b[0;34m)\u001b[0m\u001b[0;34m\u001b[0m\u001b[0m\n\u001b[0m\u001b[1;32m    248\u001b[0m     \u001b[0;32mif\u001b[0m \u001b[0;34m'retina'\u001b[0m \u001b[0;32min\u001b[0m \u001b[0mformats\u001b[0m \u001b[0;32mor\u001b[0m \u001b[0;34m'png2x'\u001b[0m \u001b[0;32min\u001b[0m \u001b[0mformats\u001b[0m\u001b[0;34m:\u001b[0m\u001b[0;34m\u001b[0m\u001b[0m\n\u001b[1;32m    249\u001b[0m         \u001b[0mpng_formatter\u001b[0m\u001b[0;34m.\u001b[0m\u001b[0mfor_type\u001b[0m\u001b[0;34m(\u001b[0m\u001b[0mFigure\u001b[0m\u001b[0;34m,\u001b[0m \u001b[0;32mlambda\u001b[0m \u001b[0mfig\u001b[0m\u001b[0;34m:\u001b[0m \u001b[0mretina_figure\u001b[0m\u001b[0;34m(\u001b[0m\u001b[0mfig\u001b[0m\u001b[0;34m,\u001b[0m \u001b[0;34m**\u001b[0m\u001b[0mkwargs\u001b[0m\u001b[0;34m)\u001b[0m\u001b[0;34m)\u001b[0m\u001b[0;34m\u001b[0m\u001b[0m\n",
      "\u001b[0;32m/home/ntimonidis/anaconda2/lib/python2.7/site-packages/IPython/core/pylabtools.pyc\u001b[0m in \u001b[0;36mprint_figure\u001b[0;34m(fig, fmt, bbox_inches, **kwargs)\u001b[0m\n\u001b[1;32m    129\u001b[0m \u001b[0;34m\u001b[0m\u001b[0m\n\u001b[1;32m    130\u001b[0m     \u001b[0mbytes_io\u001b[0m \u001b[0;34m=\u001b[0m \u001b[0mBytesIO\u001b[0m\u001b[0;34m(\u001b[0m\u001b[0;34m)\u001b[0m\u001b[0;34m\u001b[0m\u001b[0m\n\u001b[0;32m--> 131\u001b[0;31m     \u001b[0mfig\u001b[0m\u001b[0;34m.\u001b[0m\u001b[0mcanvas\u001b[0m\u001b[0;34m.\u001b[0m\u001b[0mprint_figure\u001b[0m\u001b[0;34m(\u001b[0m\u001b[0mbytes_io\u001b[0m\u001b[0;34m,\u001b[0m \u001b[0;34m**\u001b[0m\u001b[0mkw\u001b[0m\u001b[0;34m)\u001b[0m\u001b[0;34m\u001b[0m\u001b[0m\n\u001b[0m\u001b[1;32m    132\u001b[0m     \u001b[0mdata\u001b[0m \u001b[0;34m=\u001b[0m \u001b[0mbytes_io\u001b[0m\u001b[0;34m.\u001b[0m\u001b[0mgetvalue\u001b[0m\u001b[0;34m(\u001b[0m\u001b[0;34m)\u001b[0m\u001b[0;34m\u001b[0m\u001b[0m\n\u001b[1;32m    133\u001b[0m     \u001b[0;32mif\u001b[0m \u001b[0mfmt\u001b[0m \u001b[0;34m==\u001b[0m \u001b[0;34m'svg'\u001b[0m\u001b[0;34m:\u001b[0m\u001b[0;34m\u001b[0m\u001b[0m\n",
      "\u001b[0;32m/home/ntimonidis/anaconda2/lib/python2.7/site-packages/matplotlib/backend_bases.pyc\u001b[0m in \u001b[0;36mprint_figure\u001b[0;34m(self, filename, dpi, facecolor, edgecolor, orientation, format, **kwargs)\u001b[0m\n\u001b[1;32m   2261\u001b[0m                 \u001b[0morientation\u001b[0m\u001b[0;34m=\u001b[0m\u001b[0morientation\u001b[0m\u001b[0;34m,\u001b[0m\u001b[0;34m\u001b[0m\u001b[0m\n\u001b[1;32m   2262\u001b[0m                 \u001b[0mbbox_inches_restore\u001b[0m\u001b[0;34m=\u001b[0m\u001b[0m_bbox_inches_restore\u001b[0m\u001b[0;34m,\u001b[0m\u001b[0;34m\u001b[0m\u001b[0m\n\u001b[0;32m-> 2263\u001b[0;31m                 **kwargs)\n\u001b[0m\u001b[1;32m   2264\u001b[0m         \u001b[0;32mfinally\u001b[0m\u001b[0;34m:\u001b[0m\u001b[0;34m\u001b[0m\u001b[0m\n\u001b[1;32m   2265\u001b[0m             \u001b[0;32mif\u001b[0m \u001b[0mbbox_inches\u001b[0m \u001b[0;32mand\u001b[0m \u001b[0mrestore_bbox\u001b[0m\u001b[0;34m:\u001b[0m\u001b[0;34m\u001b[0m\u001b[0m\n",
      "\u001b[0;32m/home/ntimonidis/anaconda2/lib/python2.7/site-packages/matplotlib/backends/backend_agg.pyc\u001b[0m in \u001b[0;36mprint_png\u001b[0;34m(self, filename_or_obj, *args, **kwargs)\u001b[0m\n\u001b[1;32m    515\u001b[0m \u001b[0;34m\u001b[0m\u001b[0m\n\u001b[1;32m    516\u001b[0m     \u001b[0;32mdef\u001b[0m \u001b[0mprint_png\u001b[0m\u001b[0;34m(\u001b[0m\u001b[0mself\u001b[0m\u001b[0;34m,\u001b[0m \u001b[0mfilename_or_obj\u001b[0m\u001b[0;34m,\u001b[0m \u001b[0;34m*\u001b[0m\u001b[0margs\u001b[0m\u001b[0;34m,\u001b[0m \u001b[0;34m**\u001b[0m\u001b[0mkwargs\u001b[0m\u001b[0;34m)\u001b[0m\u001b[0;34m:\u001b[0m\u001b[0;34m\u001b[0m\u001b[0m\n\u001b[0;32m--> 517\u001b[0;31m         \u001b[0mFigureCanvasAgg\u001b[0m\u001b[0;34m.\u001b[0m\u001b[0mdraw\u001b[0m\u001b[0;34m(\u001b[0m\u001b[0mself\u001b[0m\u001b[0;34m)\u001b[0m\u001b[0;34m\u001b[0m\u001b[0m\n\u001b[0m\u001b[1;32m    518\u001b[0m         \u001b[0mrenderer\u001b[0m \u001b[0;34m=\u001b[0m \u001b[0mself\u001b[0m\u001b[0;34m.\u001b[0m\u001b[0mget_renderer\u001b[0m\u001b[0;34m(\u001b[0m\u001b[0;34m)\u001b[0m\u001b[0;34m\u001b[0m\u001b[0m\n\u001b[1;32m    519\u001b[0m         \u001b[0moriginal_dpi\u001b[0m \u001b[0;34m=\u001b[0m \u001b[0mrenderer\u001b[0m\u001b[0;34m.\u001b[0m\u001b[0mdpi\u001b[0m\u001b[0;34m\u001b[0m\u001b[0m\n",
      "\u001b[0;32m/home/ntimonidis/anaconda2/lib/python2.7/site-packages/matplotlib/backends/backend_agg.pyc\u001b[0m in \u001b[0;36mdraw\u001b[0;34m(self)\u001b[0m\n\u001b[1;32m    435\u001b[0m             \u001b[0;31m# if toolbar:\u001b[0m\u001b[0;34m\u001b[0m\u001b[0;34m\u001b[0m\u001b[0m\n\u001b[1;32m    436\u001b[0m             \u001b[0;31m#     toolbar.set_cursor(cursors.WAIT)\u001b[0m\u001b[0;34m\u001b[0m\u001b[0;34m\u001b[0m\u001b[0m\n\u001b[0;32m--> 437\u001b[0;31m             \u001b[0mself\u001b[0m\u001b[0;34m.\u001b[0m\u001b[0mfigure\u001b[0m\u001b[0;34m.\u001b[0m\u001b[0mdraw\u001b[0m\u001b[0;34m(\u001b[0m\u001b[0mself\u001b[0m\u001b[0;34m.\u001b[0m\u001b[0mrenderer\u001b[0m\u001b[0;34m)\u001b[0m\u001b[0;34m\u001b[0m\u001b[0m\n\u001b[0m\u001b[1;32m    438\u001b[0m             \u001b[0;31m# A GUI class may be need to update a window using this draw, so\u001b[0m\u001b[0;34m\u001b[0m\u001b[0;34m\u001b[0m\u001b[0m\n\u001b[1;32m    439\u001b[0m             \u001b[0;31m# don't forget to call the superclass.\u001b[0m\u001b[0;34m\u001b[0m\u001b[0;34m\u001b[0m\u001b[0m\n",
      "\u001b[0;32m/home/ntimonidis/anaconda2/lib/python2.7/site-packages/matplotlib/artist.pyc\u001b[0m in \u001b[0;36mdraw_wrapper\u001b[0;34m(artist, renderer, *args, **kwargs)\u001b[0m\n\u001b[1;32m     53\u001b[0m                 \u001b[0mrenderer\u001b[0m\u001b[0;34m.\u001b[0m\u001b[0mstart_filter\u001b[0m\u001b[0;34m(\u001b[0m\u001b[0;34m)\u001b[0m\u001b[0;34m\u001b[0m\u001b[0m\n\u001b[1;32m     54\u001b[0m \u001b[0;34m\u001b[0m\u001b[0m\n\u001b[0;32m---> 55\u001b[0;31m             \u001b[0;32mreturn\u001b[0m \u001b[0mdraw\u001b[0m\u001b[0;34m(\u001b[0m\u001b[0martist\u001b[0m\u001b[0;34m,\u001b[0m \u001b[0mrenderer\u001b[0m\u001b[0;34m,\u001b[0m \u001b[0;34m*\u001b[0m\u001b[0margs\u001b[0m\u001b[0;34m,\u001b[0m \u001b[0;34m**\u001b[0m\u001b[0mkwargs\u001b[0m\u001b[0;34m)\u001b[0m\u001b[0;34m\u001b[0m\u001b[0m\n\u001b[0m\u001b[1;32m     56\u001b[0m         \u001b[0;32mfinally\u001b[0m\u001b[0;34m:\u001b[0m\u001b[0;34m\u001b[0m\u001b[0m\n\u001b[1;32m     57\u001b[0m             \u001b[0;32mif\u001b[0m \u001b[0martist\u001b[0m\u001b[0;34m.\u001b[0m\u001b[0mget_agg_filter\u001b[0m\u001b[0;34m(\u001b[0m\u001b[0;34m)\u001b[0m \u001b[0;32mis\u001b[0m \u001b[0;32mnot\u001b[0m \u001b[0mNone\u001b[0m\u001b[0;34m:\u001b[0m\u001b[0;34m\u001b[0m\u001b[0m\n",
      "\u001b[0;32m/home/ntimonidis/anaconda2/lib/python2.7/site-packages/matplotlib/figure.pyc\u001b[0m in \u001b[0;36mdraw\u001b[0;34m(self, renderer)\u001b[0m\n\u001b[1;32m   1491\u001b[0m \u001b[0;34m\u001b[0m\u001b[0m\n\u001b[1;32m   1492\u001b[0m             mimage._draw_list_compositing_images(\n\u001b[0;32m-> 1493\u001b[0;31m                 renderer, self, artists, self.suppressComposite)\n\u001b[0m\u001b[1;32m   1494\u001b[0m \u001b[0;34m\u001b[0m\u001b[0m\n\u001b[1;32m   1495\u001b[0m             \u001b[0mrenderer\u001b[0m\u001b[0;34m.\u001b[0m\u001b[0mclose_group\u001b[0m\u001b[0;34m(\u001b[0m\u001b[0;34m'figure'\u001b[0m\u001b[0;34m)\u001b[0m\u001b[0;34m\u001b[0m\u001b[0m\n",
      "\u001b[0;32m/home/ntimonidis/anaconda2/lib/python2.7/site-packages/matplotlib/image.pyc\u001b[0m in \u001b[0;36m_draw_list_compositing_images\u001b[0;34m(renderer, parent, artists, suppress_composite)\u001b[0m\n\u001b[1;32m    139\u001b[0m     \u001b[0;32mif\u001b[0m \u001b[0mnot_composite\u001b[0m \u001b[0;32mor\u001b[0m \u001b[0;32mnot\u001b[0m \u001b[0mhas_images\u001b[0m\u001b[0;34m:\u001b[0m\u001b[0;34m\u001b[0m\u001b[0m\n\u001b[1;32m    140\u001b[0m         \u001b[0;32mfor\u001b[0m \u001b[0ma\u001b[0m \u001b[0;32min\u001b[0m \u001b[0martists\u001b[0m\u001b[0;34m:\u001b[0m\u001b[0;34m\u001b[0m\u001b[0m\n\u001b[0;32m--> 141\u001b[0;31m             \u001b[0ma\u001b[0m\u001b[0;34m.\u001b[0m\u001b[0mdraw\u001b[0m\u001b[0;34m(\u001b[0m\u001b[0mrenderer\u001b[0m\u001b[0;34m)\u001b[0m\u001b[0;34m\u001b[0m\u001b[0m\n\u001b[0m\u001b[1;32m    142\u001b[0m     \u001b[0;32melse\u001b[0m\u001b[0;34m:\u001b[0m\u001b[0;34m\u001b[0m\u001b[0m\n\u001b[1;32m    143\u001b[0m         \u001b[0;31m# Composite any adjacent images together\u001b[0m\u001b[0;34m\u001b[0m\u001b[0;34m\u001b[0m\u001b[0m\n",
      "\u001b[0;32m/home/ntimonidis/anaconda2/lib/python2.7/site-packages/matplotlib/artist.pyc\u001b[0m in \u001b[0;36mdraw_wrapper\u001b[0;34m(artist, renderer, *args, **kwargs)\u001b[0m\n\u001b[1;32m     53\u001b[0m                 \u001b[0mrenderer\u001b[0m\u001b[0;34m.\u001b[0m\u001b[0mstart_filter\u001b[0m\u001b[0;34m(\u001b[0m\u001b[0;34m)\u001b[0m\u001b[0;34m\u001b[0m\u001b[0m\n\u001b[1;32m     54\u001b[0m \u001b[0;34m\u001b[0m\u001b[0m\n\u001b[0;32m---> 55\u001b[0;31m             \u001b[0;32mreturn\u001b[0m \u001b[0mdraw\u001b[0m\u001b[0;34m(\u001b[0m\u001b[0martist\u001b[0m\u001b[0;34m,\u001b[0m \u001b[0mrenderer\u001b[0m\u001b[0;34m,\u001b[0m \u001b[0;34m*\u001b[0m\u001b[0margs\u001b[0m\u001b[0;34m,\u001b[0m \u001b[0;34m**\u001b[0m\u001b[0mkwargs\u001b[0m\u001b[0;34m)\u001b[0m\u001b[0;34m\u001b[0m\u001b[0m\n\u001b[0m\u001b[1;32m     56\u001b[0m         \u001b[0;32mfinally\u001b[0m\u001b[0;34m:\u001b[0m\u001b[0;34m\u001b[0m\u001b[0m\n\u001b[1;32m     57\u001b[0m             \u001b[0;32mif\u001b[0m \u001b[0martist\u001b[0m\u001b[0;34m.\u001b[0m\u001b[0mget_agg_filter\u001b[0m\u001b[0;34m(\u001b[0m\u001b[0;34m)\u001b[0m \u001b[0;32mis\u001b[0m \u001b[0;32mnot\u001b[0m \u001b[0mNone\u001b[0m\u001b[0;34m:\u001b[0m\u001b[0;34m\u001b[0m\u001b[0m\n",
      "\u001b[0;32m/home/ntimonidis/anaconda2/lib/python2.7/site-packages/matplotlib/axes/_base.pyc\u001b[0m in \u001b[0;36mdraw\u001b[0;34m(self, renderer, inframe)\u001b[0m\n\u001b[1;32m   2633\u001b[0m             \u001b[0mrenderer\u001b[0m\u001b[0;34m.\u001b[0m\u001b[0mstop_rasterizing\u001b[0m\u001b[0;34m(\u001b[0m\u001b[0;34m)\u001b[0m\u001b[0;34m\u001b[0m\u001b[0m\n\u001b[1;32m   2634\u001b[0m \u001b[0;34m\u001b[0m\u001b[0m\n\u001b[0;32m-> 2635\u001b[0;31m         \u001b[0mmimage\u001b[0m\u001b[0;34m.\u001b[0m\u001b[0m_draw_list_compositing_images\u001b[0m\u001b[0;34m(\u001b[0m\u001b[0mrenderer\u001b[0m\u001b[0;34m,\u001b[0m \u001b[0mself\u001b[0m\u001b[0;34m,\u001b[0m \u001b[0martists\u001b[0m\u001b[0;34m)\u001b[0m\u001b[0;34m\u001b[0m\u001b[0m\n\u001b[0m\u001b[1;32m   2636\u001b[0m \u001b[0;34m\u001b[0m\u001b[0m\n\u001b[1;32m   2637\u001b[0m         \u001b[0mrenderer\u001b[0m\u001b[0;34m.\u001b[0m\u001b[0mclose_group\u001b[0m\u001b[0;34m(\u001b[0m\u001b[0;34m'axes'\u001b[0m\u001b[0;34m)\u001b[0m\u001b[0;34m\u001b[0m\u001b[0m\n",
      "\u001b[0;32m/home/ntimonidis/anaconda2/lib/python2.7/site-packages/matplotlib/image.pyc\u001b[0m in \u001b[0;36m_draw_list_compositing_images\u001b[0;34m(renderer, parent, artists, suppress_composite)\u001b[0m\n\u001b[1;32m    139\u001b[0m     \u001b[0;32mif\u001b[0m \u001b[0mnot_composite\u001b[0m \u001b[0;32mor\u001b[0m \u001b[0;32mnot\u001b[0m \u001b[0mhas_images\u001b[0m\u001b[0;34m:\u001b[0m\u001b[0;34m\u001b[0m\u001b[0m\n\u001b[1;32m    140\u001b[0m         \u001b[0;32mfor\u001b[0m \u001b[0ma\u001b[0m \u001b[0;32min\u001b[0m \u001b[0martists\u001b[0m\u001b[0;34m:\u001b[0m\u001b[0;34m\u001b[0m\u001b[0m\n\u001b[0;32m--> 141\u001b[0;31m             \u001b[0ma\u001b[0m\u001b[0;34m.\u001b[0m\u001b[0mdraw\u001b[0m\u001b[0;34m(\u001b[0m\u001b[0mrenderer\u001b[0m\u001b[0;34m)\u001b[0m\u001b[0;34m\u001b[0m\u001b[0m\n\u001b[0m\u001b[1;32m    142\u001b[0m     \u001b[0;32melse\u001b[0m\u001b[0;34m:\u001b[0m\u001b[0;34m\u001b[0m\u001b[0m\n\u001b[1;32m    143\u001b[0m         \u001b[0;31m# Composite any adjacent images together\u001b[0m\u001b[0;34m\u001b[0m\u001b[0;34m\u001b[0m\u001b[0m\n",
      "\u001b[0;32m/home/ntimonidis/anaconda2/lib/python2.7/site-packages/matplotlib/artist.pyc\u001b[0m in \u001b[0;36mdraw_wrapper\u001b[0;34m(artist, renderer, *args, **kwargs)\u001b[0m\n\u001b[1;32m     53\u001b[0m                 \u001b[0mrenderer\u001b[0m\u001b[0;34m.\u001b[0m\u001b[0mstart_filter\u001b[0m\u001b[0;34m(\u001b[0m\u001b[0;34m)\u001b[0m\u001b[0;34m\u001b[0m\u001b[0m\n\u001b[1;32m     54\u001b[0m \u001b[0;34m\u001b[0m\u001b[0m\n\u001b[0;32m---> 55\u001b[0;31m             \u001b[0;32mreturn\u001b[0m \u001b[0mdraw\u001b[0m\u001b[0;34m(\u001b[0m\u001b[0martist\u001b[0m\u001b[0;34m,\u001b[0m \u001b[0mrenderer\u001b[0m\u001b[0;34m,\u001b[0m \u001b[0;34m*\u001b[0m\u001b[0margs\u001b[0m\u001b[0;34m,\u001b[0m \u001b[0;34m**\u001b[0m\u001b[0mkwargs\u001b[0m\u001b[0;34m)\u001b[0m\u001b[0;34m\u001b[0m\u001b[0m\n\u001b[0m\u001b[1;32m     56\u001b[0m         \u001b[0;32mfinally\u001b[0m\u001b[0;34m:\u001b[0m\u001b[0;34m\u001b[0m\u001b[0m\n\u001b[1;32m     57\u001b[0m             \u001b[0;32mif\u001b[0m \u001b[0martist\u001b[0m\u001b[0;34m.\u001b[0m\u001b[0mget_agg_filter\u001b[0m\u001b[0;34m(\u001b[0m\u001b[0;34m)\u001b[0m \u001b[0;32mis\u001b[0m \u001b[0;32mnot\u001b[0m \u001b[0mNone\u001b[0m\u001b[0;34m:\u001b[0m\u001b[0;34m\u001b[0m\u001b[0m\n",
      "\u001b[0;32m/home/ntimonidis/anaconda2/lib/python2.7/site-packages/matplotlib/axis.pyc\u001b[0m in \u001b[0;36mdraw\u001b[0;34m(self, renderer, *args, **kwargs)\u001b[0m\n\u001b[1;32m   1202\u001b[0m         \u001b[0mself\u001b[0m\u001b[0;34m.\u001b[0m\u001b[0m_update_label_position\u001b[0m\u001b[0;34m(\u001b[0m\u001b[0mrenderer\u001b[0m\u001b[0;34m)\u001b[0m\u001b[0;34m\u001b[0m\u001b[0m\n\u001b[1;32m   1203\u001b[0m \u001b[0;34m\u001b[0m\u001b[0m\n\u001b[0;32m-> 1204\u001b[0;31m         \u001b[0mself\u001b[0m\u001b[0;34m.\u001b[0m\u001b[0mlabel\u001b[0m\u001b[0;34m.\u001b[0m\u001b[0mdraw\u001b[0m\u001b[0;34m(\u001b[0m\u001b[0mrenderer\u001b[0m\u001b[0;34m)\u001b[0m\u001b[0;34m\u001b[0m\u001b[0m\n\u001b[0m\u001b[1;32m   1205\u001b[0m \u001b[0;34m\u001b[0m\u001b[0m\n\u001b[1;32m   1206\u001b[0m         \u001b[0mself\u001b[0m\u001b[0;34m.\u001b[0m\u001b[0m_update_offset_text_position\u001b[0m\u001b[0;34m(\u001b[0m\u001b[0mticklabelBoxes\u001b[0m\u001b[0;34m,\u001b[0m \u001b[0mticklabelBoxes2\u001b[0m\u001b[0;34m)\u001b[0m\u001b[0;34m\u001b[0m\u001b[0m\n",
      "\u001b[0;32m/home/ntimonidis/anaconda2/lib/python2.7/site-packages/matplotlib/artist.pyc\u001b[0m in \u001b[0;36mdraw_wrapper\u001b[0;34m(artist, renderer, *args, **kwargs)\u001b[0m\n\u001b[1;32m     53\u001b[0m                 \u001b[0mrenderer\u001b[0m\u001b[0;34m.\u001b[0m\u001b[0mstart_filter\u001b[0m\u001b[0;34m(\u001b[0m\u001b[0;34m)\u001b[0m\u001b[0;34m\u001b[0m\u001b[0m\n\u001b[1;32m     54\u001b[0m \u001b[0;34m\u001b[0m\u001b[0m\n\u001b[0;32m---> 55\u001b[0;31m             \u001b[0;32mreturn\u001b[0m \u001b[0mdraw\u001b[0m\u001b[0;34m(\u001b[0m\u001b[0martist\u001b[0m\u001b[0;34m,\u001b[0m \u001b[0mrenderer\u001b[0m\u001b[0;34m,\u001b[0m \u001b[0;34m*\u001b[0m\u001b[0margs\u001b[0m\u001b[0;34m,\u001b[0m \u001b[0;34m**\u001b[0m\u001b[0mkwargs\u001b[0m\u001b[0;34m)\u001b[0m\u001b[0;34m\u001b[0m\u001b[0m\n\u001b[0m\u001b[1;32m     56\u001b[0m         \u001b[0;32mfinally\u001b[0m\u001b[0;34m:\u001b[0m\u001b[0;34m\u001b[0m\u001b[0m\n\u001b[1;32m     57\u001b[0m             \u001b[0;32mif\u001b[0m \u001b[0martist\u001b[0m\u001b[0;34m.\u001b[0m\u001b[0mget_agg_filter\u001b[0m\u001b[0;34m(\u001b[0m\u001b[0;34m)\u001b[0m \u001b[0;32mis\u001b[0m \u001b[0;32mnot\u001b[0m \u001b[0mNone\u001b[0m\u001b[0;34m:\u001b[0m\u001b[0;34m\u001b[0m\u001b[0m\n",
      "\u001b[0;32m/home/ntimonidis/anaconda2/lib/python2.7/site-packages/matplotlib/text.pyc\u001b[0m in \u001b[0;36mdraw\u001b[0;34m(self, renderer)\u001b[0m\n\u001b[1;32m    704\u001b[0m \u001b[0;34m\u001b[0m\u001b[0m\n\u001b[1;32m    705\u001b[0m         \u001b[0;32mwith\u001b[0m \u001b[0m_wrap_text\u001b[0m\u001b[0;34m(\u001b[0m\u001b[0mself\u001b[0m\u001b[0;34m)\u001b[0m \u001b[0;32mas\u001b[0m \u001b[0mtextobj\u001b[0m\u001b[0;34m:\u001b[0m\u001b[0;34m\u001b[0m\u001b[0m\n\u001b[0;32m--> 706\u001b[0;31m             \u001b[0mbbox\u001b[0m\u001b[0;34m,\u001b[0m \u001b[0minfo\u001b[0m\u001b[0;34m,\u001b[0m \u001b[0mdescent\u001b[0m \u001b[0;34m=\u001b[0m \u001b[0mtextobj\u001b[0m\u001b[0;34m.\u001b[0m\u001b[0m_get_layout\u001b[0m\u001b[0;34m(\u001b[0m\u001b[0mrenderer\u001b[0m\u001b[0;34m)\u001b[0m\u001b[0;34m\u001b[0m\u001b[0m\n\u001b[0m\u001b[1;32m    707\u001b[0m             \u001b[0mtrans\u001b[0m \u001b[0;34m=\u001b[0m \u001b[0mtextobj\u001b[0m\u001b[0;34m.\u001b[0m\u001b[0mget_transform\u001b[0m\u001b[0;34m(\u001b[0m\u001b[0;34m)\u001b[0m\u001b[0;34m\u001b[0m\u001b[0m\n\u001b[1;32m    708\u001b[0m \u001b[0;34m\u001b[0m\u001b[0m\n",
      "\u001b[0;31mKeyboardInterrupt\u001b[0m: "
     ]
    }
   ],
   "source": [
    "measure  = 'AURoc'\n",
    "MetaInfo = {}\n",
    "for key in ClfResults_ridge.keys():\n",
    "    tmp1 = [val[0] for val in ClfResults_ridge[key][measure]] \n",
    "    sort1 = np.argsort(tmp1)[::-1]; sort3 = np.sort(tmp1)[::-1]\n",
    "    set_length = len(sort1)   \n",
    "\n",
    "    MetaInfo['min1']  = [MesoPred.ConDict[key]['structure-abbrev'][sort1[set_length-1]], sort3[set_length-1]]\n",
    "    MetaInfo['max1']  = [MesoPred.ConDict[key]['structure-abbrev'][sort1[0]], sort3[0]]\n",
    "    MetaInfo['med1']  = [MesoPred.ConDict[key]['structure-abbrev'][sort1[set_length/2]], sort3[set_length/2]]\n",
    "\n",
    "    MetaInfo['save_file']  = key + '_' + measure +'.jpg'\n",
    "    MetaInfo['save_file2'] = key + '_' + measure +'.eps'\n",
    "    MetaInfo['title']      = key  \n",
    "    MetaInfo['ylabel']     = measure\n",
    "    MetaInfo['xlabel']     = 'Ridge'\n",
    "    MetaInfo['lb']         = np.min(ClfResults_ridge[key][measure]) - 0.1\n",
    "    MetaInfo['ub']         = 1.0\n",
    "   \n",
    "    print key, np.median(ClfResults_ridge[key][measure]), sci.stats.iqr(ClfResults_ridge[key][measure])\n",
    "    fsz = 14\n",
    "    plt.rcParams['axes.facecolor'] = 'white'\n",
    "    plt.figure(figsize=(10,6))\n",
    "    plt.tight_layout()\n",
    "    plt.rcParams['figure.figsize']\n",
    "    box = plt.boxplot(ClfResults_ridge[key][measure], 0, 'gD', widths = 0.6, whis = [5,95])\n",
    "    ax = plt.gca()\n",
    "    ax.xaxis.set_tick_params(labelsize = 16)\n",
    "    ax.yaxis.set_tick_params(labelsize = 16)\n",
    "    plt.text(0.55, MetaInfo['max1'][1], MetaInfo['max1'][0], fontsize = fsz)\n",
    "    plt.text(0.55, MetaInfo['min1'][1], MetaInfo['min1'][0], fontsize = fsz)\n",
    "    plt.text(0.55, MetaInfo['med1'][1], MetaInfo['med1'][0], fontsize = fsz)\n",
    "    plt.title(MetaInfo['title'], fontsize = 20)\n",
    "    plt.xlabel(MetaInfo['xlabel'], fontsize = 18)\n",
    "    plt.ylabel(MetaInfo['ylabel'], fontsize = 18)\n",
    "    \n",
    "    for key2 in box.keys():\n",
    "        for bp in box[key2]:\n",
    "            bp.set(linewidth = 2)\n",
    "            \n",
    "    if key == 'wild_type':\n",
    "        lb = 0.7\n",
    "    else:\n",
    "        lb = 0.8\n",
    "    plt.yticks(np.arange(lb,1.01,0.05))\n",
    "    #plt.yticks(np.arange(0.4,1.0,0.05))\n",
    "\n",
    "    plt.savefig('paper1_figures/regression_accuracy_figures/' + MetaInfo['save_file'])\n",
    "    plt.savefig('paper1_figures/regression_accuracy_figures/' + MetaInfo['save_file2'])\n",
    "    plt.show(block = False)\n",
    "    plt.pause(1)\n",
    "    plt.close()\n",
    "     "
   ]
  },
  {
   "cell_type": "raw",
   "metadata": {},
   "source": [
    "ClfResults_rf = {};  \n",
    "path = '../Old_files/Mesoconnectome_Predictor_PyR/Paper4/'\n",
    "for element in os.listdir(path):\n",
    "    if 'all_results_ridge.pkl' in element:\n",
    "        driver =  element.split('_all_')[0]\n",
    "        print driver\n",
    "        tmp = pk.load(open(path + element,'rb'))\n",
    "        ClfResults_rf[driver] = tmp \n",
    "\n",
    "ClfResults_bl = {};  \n",
    "for element in os.listdir(path):\n",
    "    if 'all_results_bl.pkl' in element:\n",
    "        driver =  element.split('_all_')[0]\n",
    "        print driver\n",
    "        tmp = pk.load(open(path + element,'rb'))\n",
    "        ClfResults_bl[driver] = tmp\n",
    "        \n",
    "clear_output()      "
   ]
  },
  {
   "cell_type": "raw",
   "metadata": {},
   "source": [
    "for key in ClfResults_ridge.keys():\n",
    "    MesoPred.params['cre-line'] = key\n",
    "    MesoPred.Evaluation(ClfResults_ridge[key], ClfResults_rf[key], ClfResults_bl[key], MesoPred.params, measure_list = ['r2'])"
   ]
  },
  {
   "cell_type": "raw",
   "metadata": {},
   "source": [
    "import collections\n",
    "\n",
    "def find_duplicates(lst, item):\n",
    "    return [i for i, x in enumerate(lst) if x == item]\n",
    "\n",
    "a = MesoPred.params['Gene Acronyms']\n",
    "duplicates = [item for item, count in collections.Counter(a).items() if count > 1]\n",
    "for dup in duplicates:\n",
    "    dup_group = find_duplicates(a, dup)\n",
    "    dup_ids = [MesoPred.params['Gene Ids'][val] for idx,val in enumerate(dup_group)]\n",
    "    C = ClfResults_ridge['wild_type']['final model'].coef_[:,dup_group]\n",
    "    print dup_ids, dup#, np.nansum(np.nanstd(GeneExp[:,dup_group], axis = 1)), np.sum(np.std(C, axis = 1))\n",
    "    if len(np.unique(MesoPred.params['Gene Ids'][dup_group])) > 1 or np.sum(np.std(C, axis = 1)) == 0:\n",
    "        set_trace()\n",
    "    if np.nansum(np.nanstd(GeneExp[:,dup_group], axis = 1)) == 0:\n",
    "        set_trace()\n",
    "  \n",
    "        \n",
    " "
   ]
  },
  {
   "cell_type": "raw",
   "metadata": {},
   "source": [
    "proj_summary, proj_pred_summary, laminar_profs = MesoPred.PlotStatistics(ClfResults_ridge)\n",
    "#clear_output()"
   ]
  },
  {
   "cell_type": "markdown",
   "metadata": {},
   "source": [
    "### Step #1: stratify cre lines based on their predictive performance proximity with wild-type"
   ]
  },
  {
   "cell_type": "raw",
   "metadata": {},
   "source": [
    "prox_to_wild = {key: sci.stats.mannwhitneyu(ClfResults_ridge['wild_type']['r2'], ClfResults_ridge[key]['r2'], alternative = 'two-sided')[1] for key in ClfResults_ridge.keys() if key != 'wild_type'}\n",
    "prox_thr = 0.05\n",
    "far_from_wild  = [key for key,val in prox_to_wild.items() if val < prox_thr]\n",
    "close_to_wild  = [key for key,val in prox_to_wild.items() if val >= prox_thr]"
   ]
  },
  {
   "cell_type": "markdown",
   "metadata": {},
   "source": [
    "### Step #2: evaluate cre and wild_type proximity based on their laminar profiles"
   ]
  },
  {
   "cell_type": "raw",
   "metadata": {},
   "source": [
    "far_from_wild_stats = np.asarray([proj_summary[key] for key in far_from_wild])\n",
    "close_to_wild_stats = np.asarray([proj_summary[key] for key in close_to_wild])\n",
    "\n",
    "print 'far from wild type'\n",
    "mean1 = np.mean(far_from_wild_stats, axis = 0)\n",
    "std1  = np.std(far_from_wild_stats, axis = 0)\n",
    "for idx, profile in enumerate(laminar_profs):\n",
    "    print 'profile: {} - mean: {} - std: {}'.format(profile,mean1[idx], std1[idx])\n",
    "    \n",
    "print 'close to wild type'\n",
    "mean2 = np.mean(close_to_wild_stats, axis = 0)\n",
    "std2  = np.std(close_to_wild_stats, axis = 0)\n",
    "for idx, profile in enumerate(laminar_profs):\n",
    "    print 'profile: {} - mean: {} - std: {}'.format(profile, mean2[idx], std2[idx])\n",
    "    "
   ]
  },
  {
   "cell_type": "raw",
   "metadata": {},
   "source": [
    "far_from_wild_stats = np.asarray([proj_pred_summary[key] for key in far_from_wild])\n",
    "close_to_wild_stats = np.asarray([proj_pred_summary[key] for key in close_to_wild])\n",
    "\n",
    "print 'far from wild type'\n",
    "mean1 = np.mean(far_from_wild_stats, axis = 0)\n",
    "std1  = np.std(far_from_wild_stats, axis = 0)\n",
    "for idx, profile in enumerate(laminar_profs):\n",
    "    print 'profile: {} - mean: {} - std: {}'.format(profile,mean1[idx], std1[idx])\n",
    "    \n",
    "print 'close to wild type'\n",
    "mean2 = np.mean(close_to_wild_stats, axis = 0)\n",
    "std2  = np.std(close_to_wild_stats, axis = 0)\n",
    "for idx, profile in enumerate(laminar_profs):\n",
    "    print 'profile: {} - mean: {} - std: {}'.format(profile, mean2[idx], std2[idx])\n",
    "    "
   ]
  },
  {
   "cell_type": "markdown",
   "metadata": {},
   "source": [
    "Looking at the differences between the projection patterns of cre lines close to wild type and those further away in terms of different in predictive accuracy, there is no significant difference between them. Hence, all driver lines share similar projection tendencies on an average level across brain areas that can be also validated by our predicted model. Therefore, if there is any reason for differences in predictive performance I am suspecting numerical scaling difficulties during the unionization process"
   ]
  },
  {
   "cell_type": "raw",
   "metadata": {},
   "source": [
    "Correlation_between_tracers = {}\n",
    "wild_type_mat = ClfResults_ridge['wild_type']['y_actual']\n",
    "\n",
    "for key in ClfResults_ridge.keys():\n",
    "    if key != 'wild_type':\n",
    "        Correlation_between_tracers[key] = []\n",
    "        for row, tracer_set1 in enumerate(np.transpose(wild_type_mat)):\n",
    "            cre_mat = ClfResults_ridge[key]['y_actual']\n",
    "            cnt = 0\n",
    "            for tracer_set2 in np.transpose(cre_mat):\n",
    "                correlation = sci.stats.wilcoxon(tracer_set1, tracer_set2)[1]\n",
    "                if correlation < 0.05:\n",
    "                    cnt = cnt + 1\n",
    "            cnt = cnt/(1.0*np.shape(cre_mat)[1])\n",
    "            Correlation_between_tracers[key].append(cnt)  \n",
    "        sig_cor_num = len([val for val in Correlation_between_tracers[key] if val > 0.8])/(498.0)\n",
    "        print 'The number of significant correlations for cre-line {} is : {}'.format(key, sig_cor_num)    "
   ]
  },
  {
   "cell_type": "markdown",
   "metadata": {},
   "source": [
    "Performance of Laminar Enrichment Analysis with top important genes"
   ]
  },
  {
   "cell_type": "raw",
   "metadata": {},
   "source": [
    "laminar_hits = {}\n",
    "top_gene_size =  100\n",
    "for key in ClfResults_ridge.keys():\n",
    "    top_gene_names    = np.argsort(np.mean(ClfResults_ridge[key]['final model'].coef_, axis = 0))[::-1][0:top_gene_size]\n",
    "    #top_gene_names    = ClfResults_ridge[key]['Mean Gene Scoring'][0][0:top_gene_size]\n",
    "    laminar_hits[key] = MesoPred.LaminarEnrichment(top_gene_names)"
   ]
  },
  {
   "cell_type": "markdown",
   "metadata": {},
   "source": [
    "### Observation #2:  \n",
    "Here I was trying to re-run gene ontology enrichment analysis and the problem that I have stumbled upon is outdated R. Updating R through conda implies the update of packages that are related to the CCP pipeline and hence it could put the pipeline at risk given the March deadline. Therefore, I will utilize the GO enrichment tables from cerebellum ..."
   ]
  },
  {
   "cell_type": "raw",
   "metadata": {},
   "source": [
    "#top_gene_ids = MesoPred.params['Gene Ids'][ClfResults_ridge['wild_type']['Mean Gene Scoring'][2][0:top_gene_size]]\n",
    "top_gene_ids = MesoPred.params['Gene Ids Original'][0:100]\n",
    "BP, MF, CC = MesoPred.GOenrichment(top_gene_ids)\n",
    "GODict = OrderedDict()\n",
    "GODict['BIOLOGICAL PROCESS'] = [element for element in BP]\n",
    "GODict['MOLECULAR FUNCTION'] = [element for element in MF]\n",
    "GODict['CELLULAR COMPONENT'] = [element for element in CC]\n",
    "GO_DF = pd.DataFrame(dict([ (k, pd.Series(v)) for k,v in GODict.items()])) \n",
    "table(ax, GO_DF)\n",
    "exportFile = 'GO_results_for_'+ cre_line + '.csv'\n",
    "GO_DF.to_csv(path_or_buf = exportFile)\n",
    "#client.upload_file(exportFile, os.path.join(collab_path, exportFile))"
   ]
  },
  {
   "cell_type": "raw",
   "metadata": {},
   "source": [
    "proj_summary, proj_pred_summary, xlabel = MesoPred.PlotStatistics(ClfResults_ridge,laminar_hits)"
   ]
  },
  {
   "cell_type": "markdown",
   "metadata": {},
   "source": [
    "As the results show, there is a big number of significant correlations on the actual tracing data between wild type and cre. Therefore, I suspect that numerical scaling differences play an important role in the prediction performance of our models.  Let's display two indicative cre and wild type experiments respectively:"
   ]
  },
  {
   "cell_type": "raw",
   "metadata": {},
   "source": [
    "BP_10 = PL.BrainPlotter(resolution = 10) \n",
    "BP_25 = PL.BrainPlotter(resolution = 25)"
   ]
  },
  {
   "cell_type": "raw",
   "metadata": {},
   "source": [
    "BP_25.fit(projection = ClfResults_ridge['Ntsr1-Cre_GN220']['y_actual'][:,10], \n",
    "          chosen_indices = MesoPred.params['remaining_indices'])\n",
    "BP_10.fit(projection = ClfResults_ridge['Ntsr1-Cre_GN220']['y_actual'][:,10],\n",
    "         chosen_indices = MesoPred.params['remaining_indices'])"
   ]
  },
  {
   "cell_type": "raw",
   "metadata": {},
   "source": [
    "BP_25.plot_slice()\n",
    "BP_10.plot_flatmap()"
   ]
  },
  {
   "cell_type": "raw",
   "metadata": {},
   "source": [
    "BP_25 = PL.BrainPlotter(resolution = 25)\n",
    "BP_10 = PL.BrainPlotter(resolution = 10)\n",
    "BP_25.fit(projection = ClfResults_ridge['wild_type']['y_actual'][:,10],\n",
    "         chosen_indices = MesoPred.params['remaining_indices'])\n",
    "BP_10.fit(projection = ClfResults_ridge['wild_type']['y_actual'][:,10],\n",
    "         chosen_indices = MesoPred.params['remaining_indices'])"
   ]
  },
  {
   "cell_type": "raw",
   "metadata": {},
   "source": [
    "BP_25.plot_slice()\n",
    "BP_10.plot_flatmap()"
   ]
  },
  {
   "cell_type": "raw",
   "metadata": {},
   "source": [
    "from sklearn.linear_model import RandomizedLasso\n",
    "from sklearn.pipeline import Pipeline\n",
    "\n",
    "def StabilitySelection(ClfResults_ridge):\n",
    "    scaler              = StandardScaler()\n",
    "    gene_dict           = OrderedDict()\n",
    "    for key in ClfResults_ridge.keys():\n",
    "        if key not in gene_dict2:\n",
    "            gene_dict[key] = []\n",
    "            alpha = ClfResults_ridge[key]['final model'].get_params()['alpha']/100.0\n",
    "            for tracer in range(np.shape(ClfResults_ridge[key]['y_actual'])[1]):\n",
    "                stability_selection = RandomizedLasso(normalize = False)\n",
    "                pipeline            = Pipeline([('scaler', scaler), ('stability_selection', stability_selection)])\n",
    "                pipeline.fit(ClfResults_ridge[key]['Gene Expression'], ClfResults_ridge[key]['y_actual'][:,tracer])\n",
    "                tmp = pipeline.get_params()['stability_selection'].get_support()\n",
    "                gene_dict[key].append([MesoPred.params['Gene Ids'][i] for i, x in enumerate(tmp) if x])\n",
    "                clear_output()\n",
    "                print key, np.shape(gene_dict[key])\n",
    "            \n",
    "    return gene_dict\n",
    "\n",
    "gene_dict = StabilitySelection(ClfResults_ridge)"
   ]
  },
  {
   "cell_type": "raw",
   "metadata": {},
   "source": [
    "gene_dict2.update(gene_dict)\n",
    "pk.dump(gene_dict2, open('RandomizedLasso_results_1_4_19.pkl','wb'))"
   ]
  },
  {
   "cell_type": "code",
   "execution_count": null,
   "metadata": {},
   "outputs": [],
   "source": [
    "gene_dict2 = pk.load(open('saves/RandomizedLasso_results_1_4_19.pkl','rb'))"
   ]
  },
  {
   "cell_type": "raw",
   "metadata": {},
   "source": [
    "gene_consensus = OrderedDict()\n",
    "for key in gene_dict2.keys():\n",
    "    gene_consensus[key] = []\n",
    "    for tracer in range(np.shape(ClfResults_ridge[key]['y_actual'])[1]):\n",
    "        stab_sel_set = gene_dict2[key][tracer]\n",
    "        tmp = np.argsort(ClfResults_ridge[key]['final model'].coef_[tracer,:])[::-1]\n",
    "        ridge_set = MesoPred.params['Gene Ids'][tmp]\n",
    "        ol_positions = [id2 for id1,val1 in enumerate(stab_sel_set) for id2,val2 in enumerate(ridge_set) if val1==val2]\n",
    "        check_2 = [ridge_set[val] for val in ol_positions if val <= len(stab_sel_set) and ridge_set[val] is not None]\n",
    "        gene_consensus[key].append(check_2)\n",
    "        \n",
    "pk.dump(gene_consensus, open('paper1_figures/gene_consensus.pkl','wb'))        "
   ]
  },
  {
   "cell_type": "raw",
   "metadata": {},
   "source": [
    "import rpy2.robjects as ro\n",
    "from rpy2.robjects import numpy2ri\n",
    "ro.numpy2ri.activate()\n",
    "#GODict = {'BP': {}, 'MF': {}, 'CC': {}}\n",
    "AltGoDict = {}\n",
    "for key in gene_consensus.keys():\n",
    "    #GODict[key] = []\n",
    "    AltGoDict[key] = []\n",
    "    temp_list = []    \n",
    "    for tracer in range(len(gene_consensus[key])):\n",
    "        print key,tracer\n",
    "        MGP = ro.r('''\n",
    "        GOenrichment <-function(GeneList){\n",
    "            source(\"http://bioconductor.org/biocLite.R\")\n",
    "            lib_path = \"~/R/x86_64-pc-linux-gnu-library/3.2/\"\n",
    "            lib_path_2 = \"~/anaconda2/lib/R/library/org.Mm.eg.db\"\n",
    "            #biocLite(\"ALL\")\n",
    "            #biocLite(\"GOstats\", lib = lib_path)\n",
    "            #biocLite(\"Category\", lib = lib_path)\n",
    "            #biocLite(\"genefilter\", lib = lib_path)\n",
    "            #biocLite(\"org.Mm.eg.db\", lib = lib_path_2)\n",
    "            #biocLite(\"gage\", lib = lib_path)\n",
    "            #biocLite(pkgs=c(\"Biobase\", \"IRanges\", \"AnnotationDbi\"),\n",
    "             #   suppressUpdates=FALSE,\n",
    "              #  suppressAutoUpdate=FALSE,\n",
    "               # siteRepos=character(),\n",
    "                #ask=TRUE, lib= lib_path)\n",
    "            #install.packages(\"RSQLite\")\n",
    "            #install.packages(\"devtools\")\n",
    "            #require(devtools)\n",
    "            #library(\"RSQLite\")\n",
    "            #library(\"gage\")\n",
    "            #library(\"genefilter\")\n",
    "            #library(\"org.Mm.eg.db\")\n",
    "            library(DBI)\n",
    "            library(\"GO.db\")\n",
    "            library(\"GOstats\")\n",
    "            library(\"Category\")\n",
    "            library(\"annotate\")\n",
    "            data(ALL, package=\"ALL\")\n",
    "\n",
    "            hgCutoff <- 0.05\n",
    "\n",
    "            params <- new(\"GOHyperGParams\",\n",
    "                   geneIds = GeneList,\n",
    "                   universeGeneIds = NULL,\n",
    "                   annotation = \"org.Mm.eg.db\",\n",
    "                   ontology = \"CC\",\n",
    "                   pvalueCutoff = hgCutoff,\n",
    "                   conditional = FALSE,\n",
    "                   testDirection = \"over\")\n",
    "            CC <- hyperGTest(params)\n",
    "            sumCC <- data.frame(summary(CC))\n",
    "            sumCC <- subset(sumCC, select=c(\"Term\"))\n",
    "\n",
    "            foo <- vector(mode=\"list\", length = 3)\n",
    "            #foo[[1]] <- sumBP\n",
    "            #foo[[2]] <- sumMF\n",
    "            foo[[3]] <- sumCC\n",
    "\n",
    "            return(foo)\n",
    "        }''')\n",
    "        gene_consensus = pk.load(open('paper1_figures/gene_consensus.pkl','rb'))   \n",
    "        r_getname = ro.globalenv['GOenrichment']\n",
    "        verdict = r_getname(gene_consensus[key][tracer])\n",
    "        temp_list.append(np.asarray(verdict[2])[0])\n",
    "        AltGoDict[key] = len([idx for idx,lista in enumerate(temp_list) for element in lista if 'synap' in element or 'neur' in element])/(1.0*len(temp_list))\n",
    "            \n",
    "    #unique_hits = np.unique(np.concatenate(temp_list))\n",
    "    #for element in unique_hits: \n",
    "        #freq = len([idx for idx,lista in enumerate(temp_list) if element in lista])/(1.0*len(temp_list))\n",
    "        #GODict[key].append((element,freq))\n",
    "    \n",
    "    "
   ]
  },
  {
   "cell_type": "raw",
   "metadata": {},
   "source": [
    "GODict = pk.load(open('saves/GODict.pkl','rb'))\n",
    "del GODict['BP'], GODict['CC'], GODict['MF']\n",
    "GODict2 = {}\n",
    "for key in GODict.keys():\n",
    "    print key\n",
    "    GODict2[key] = []\n",
    "    tmp      = np.asarray(GODict[key])\n",
    "    values   = np.asarray(tmp[:,1], dtype = np.float32)\n",
    "    sort_ids = values.argsort()[::-1]\n",
    "    for element in tmp[sort_ids]:\n",
    "        if float(element[1]) > 0.2:\n",
    "            GODict2[key].append(element[0] + ' : ' + element[1])\n",
    "pk.dump(GODict2, open('GODict2.pkl','wb'))        "
   ]
  },
  {
   "cell_type": "code",
   "execution_count": null,
   "metadata": {},
   "outputs": [],
   "source": [
    "GODict2 = pk.load(open('GODict2.pkl','rb'))\n",
    "for key in GODict2.keys():\n",
    "    tmp = [component for component in GODict2[key] if 'neur' in component or 'synap' in component]\n",
    "    GODict2[key] = tmp\n",
    "GO_DF = pd.DataFrame(dict([(k, pd.Series(v)) for k,v in GODict2.items() ])) \n",
    "#plt.plot(frame_on = False) # no visible frame\n",
    "tbl = render_mpl_table(GO_DF)\n",
    "ax = plt.gca()\n",
    "#ax.xaxis.set_visible(False)  # hide the x axis\n",
    "#ax.yaxis.set_visible(False)  # hide the y axis\n",
    "plt.savefig('paper1_figures/GO_results.jpg')\n",
    "plt.show()"
   ]
  },
  {
   "cell_type": "code",
   "execution_count": 18,
   "metadata": {},
   "outputs": [],
   "source": [
    "Components = pk.load(open('saves/Components.pkl','rb'))\n",
    "Code = pk.load(open('saves/Code.pkl','rb'))\n",
    "dlsc_mdl = pk.load(open('saves/dict_mdl.pkl','rb'))\n",
    "G_Components = pk.load(open('saves/Grange_Atoms.pkl','rb'))\n",
    "G_Code = pk.load(open('saves/Grange_Code.pkl','rb'))\n",
    "G_dlsc_mdl = pk.load(open('saves/Grange_mdl.pkl','rb'))"
   ]
  },
  {
   "cell_type": "code",
   "execution_count": null,
   "metadata": {},
   "outputs": [],
   "source": [
    "top_num = 50\n",
    "top_gene_idx2 = np.argsort(G_Components[285,:])[::-1][0:top_num]\n",
    "top_gene_ids2 = [MesoPred.params['Gene Ids'][val] for val in top_gene_idx2 if MesoPred.params['Gene Ids'][val] is not None]\n",
    "print top_gene_ids2"
   ]
  },
  {
   "cell_type": "code",
   "execution_count": null,
   "metadata": {},
   "outputs": [],
   "source": [
    "top_num = 50\n",
    "top_gene_idx = np.argsort(Components[14,:])[::-1][0:top_num]\n",
    "top_gene_ids = [MesoPred.params['Gene Ids'][val] for val in top_gene_idx if MesoPred.params['Gene Ids'][val] is not None]\n",
    "print top_gene_ids"
   ]
  },
  {
   "cell_type": "code",
   "execution_count": null,
   "metadata": {},
   "outputs": [],
   "source": [
    "top_num = 50\n",
    "top_gene_idx3 = np.argsort(ClfResults_ridge['wild_type']['final model'].coef_[:,385])[::-1][0:top_num]\n",
    "top_gene_ids3 = [MesoPred.params['Gene Ids'][val] for val in top_gene_idx3 if MesoPred.params['Gene Ids'][val] is not None]\n",
    "print top_gene_ids3"
   ]
  },
  {
   "cell_type": "code",
   "execution_count": null,
   "metadata": {},
   "outputs": [],
   "source": [
    "GODict = {'Unconstrained Module 14': {}, 'Constrained Module 285': {}, 'Wild-type DG': {}}\n",
    "key_list = list(GODict.keys()) \n",
    "print key_list"
   ]
  },
  {
   "cell_type": "code",
   "execution_count": null,
   "metadata": {},
   "outputs": [],
   "source": [
    "GODict"
   ]
  },
  {
   "cell_type": "code",
   "execution_count": null,
   "metadata": {},
   "outputs": [],
   "source": [
    "import rpy2.robjects as ro\n",
    "from rpy2.robjects import numpy2ri\n",
    "ro.numpy2ri.activate()\n",
    "GODict = {}\n",
    " \n",
    "top_num = 50\n",
    "PAA_gene_ids = np.argsort(ClfResults_ridge['wild_type']['final model'].coef_[sel_tracer,:])[::-1][0:top_num]\n",
    "PAA_players = [MesoPred.params['Gene Ids'][val] for val in PAA_gene_ids if MesoPred.params['Gene Ids'][val] is not None]\n",
    "for mod in [46,117,118]:\n",
    "    mod_gene_ids = np.argsort(Atoms[mod,:])[::-1][0:top_num]\n",
    "    gene_lista  = [MesoPred.params['Gene Ids'][val] for val in mod_gene_ids if MesoPred.params['Gene Ids'][val] is not None]\n",
    "    GODict['module {}'.format(mod)] = MesoPred.GOenrichment(gene_lista)\n",
    "GODict['wild-type PAA'] = MesoPred.GOenrichment(PAA_players)\n",
    "    "
   ]
  },
  {
   "cell_type": "code",
   "execution_count": null,
   "metadata": {},
   "outputs": [],
   "source": [
    "GO_DF = pd.DataFrame(dict([ (k, pd.Series(v)) for k,v in GODict.items()]))\n",
    "tbl = render_mpl_table(GO_DF)\n",
    "plt.savefig('paper1_figures/module_ontology_results.jpg')\n",
    "plt.savefig('paper1_figures/module_ontology_results.eps')"
   ]
  },
  {
   "cell_type": "markdown",
   "metadata": {},
   "source": [
    "### Important Experiment: !!!!\n",
    "I will remake the regionalized array by mixing projection patterns from different profiles"
   ]
  },
  {
   "cell_type": "code",
   "execution_count": null,
   "metadata": {},
   "outputs": [],
   "source": [
    "model_meta = pk.load(open('model_meta.pkl','rb'))\n",
    "layer_resolved_array = pk.load(open('layer_resolved_array.pkl','rb'))\n",
    "print model_meta.keys()"
   ]
  },
  {
   "cell_type": "code",
   "execution_count": null,
   "metadata": {},
   "outputs": [],
   "source": [
    "LayerArray,ModelMeta = MesoPred.GetLayerResolvedArray(mode = 'unionized', \n",
    "                                                cre_file = 'Supplementary Table 1.csv')"
   ]
  },
  {
   "cell_type": "code",
   "execution_count": null,
   "metadata": {},
   "outputs": [],
   "source": [
    "LayerArray2 = []\n",
    "for modelaki in ModelMeta['model']:\n",
    "    LayerArray2.append(modelaki.connection_density.T)\n",
    "     \n",
    "LayerArray2 = np.dstack(LayerArray2)"
   ]
  },
  {
   "cell_type": "code",
   "execution_count": null,
   "metadata": {},
   "outputs": [],
   "source": [
    "new_layer_mat = np.zeros((np.shape(LayerArray2)[0],np.shape(LayerArray2)[1]))\n",
    "with open('structures.csv','rb') as fp:\n",
    "                structure       = PL.readtable(fp) \n",
    "                struct_idx_dict = {val:idx for idx,val in enumerate(structure['id'])}\n",
    "    \n",
    "layers = PL.LaminarRegistration(ModelMeta['source id'])\n",
    "for idx,source in enumerate(layers):\n",
    "    prof_hit = [prof_id for prof_id,val in enumerate(ModelMeta['layer profiles'])                 \n",
    "                if val.split(' ')[0].replace('L','layer').split('layer')[1] \n",
    "                in source.split('layer ')[1] and val != 'layer inspecific']\n",
    "         \n",
    "    if len(prof_hit) == 0:\n",
    "        new_layer_mat[:,idx] = LayerArray2[:,idx,5]\n",
    "    else:\n",
    "        new_layer_mat[:,idx] = LayerArray2[:,idx,prof_hit[0]]"
   ]
  },
  {
   "cell_type": "code",
   "execution_count": null,
   "metadata": {},
   "outputs": [],
   "source": [
    "target  = np.asarray(ModelMeta['target id'])\n",
    "source  = np.asarray(ModelMeta['source id'])\n",
    "resorting_trg_indices = np.argsort(ModelMeta['target id'])\n",
    "model_meta['sorting target id'] = target[resorting_trg_indices]\n",
    "resorting_src_indices = np.argsort(ModelMeta['source id'])\n",
    "model_meta['sorting source id'] = source[resorting_src_indices]\n",
    "layer_array_2 = new_layer_mat[resorting_trg_indices,:]\n",
    "layer_array_3 = layer_array_2[:,resorting_src_indices]"
   ]
  },
  {
   "cell_type": "code",
   "execution_count": null,
   "metadata": {},
   "outputs": [],
   "source": [
    "LayerDf = pd.DataFrame(data = layer_array_3,\n",
    "                           index = model_meta['sorting target id'], \n",
    "                           columns = model_meta['sorting source id'])\n",
    "#pk.dump(LayerDf, open('paper1_figures/Layer_specific_Df.pkl','wb'))\n",
    "\n",
    "#LayerDf = pk.load(open('paper1_figures/Layer_specific_Df.pkl','rb'))\n",
    "plt.figure(figsize = (30,15))\n",
    "plt.title('laminar specific regionalized array', fontsize = 32)\n",
    "sns.set(font_scale=2.1)\n",
    "sns.heatmap(LayerDf)\n",
    "ax = plt.gca()\n",
    "ax.xaxis.set_tick_params(labelsize = 22)\n",
    "ax.yaxis.set_tick_params(labelsize = 22)\n",
    "plt.xticks(rotation = 290)\n",
    "plt.yticks(rotation = 30)\n",
    "#plt.savefig('paper1_figures/Merged_RegionalizedArray.jpg')\n",
    "#plt.savefig('paper1_figures/Merged_RegionalizedArray.eps')"
   ]
  },
  {
   "cell_type": "code",
   "execution_count": null,
   "metadata": {},
   "outputs": [],
   "source": [
    "LayerDf = pd.DataFrame(data = layer_array_3[0:25,0:25],\n",
    "                           index = model_meta['sorting target id'][0:25], \n",
    "                           columns = model_meta['sorting source id'][0:25])\n",
    "#pk.dump(LayerDf, open('paper1_figures/Layer_specific_Df.pkl','wb'))\n",
    "\n",
    "#LayerDf = pk.load(open('paper1_figures/Layer_specific_Df.pkl','rb'))\n",
    "plt.figure(figsize = (30,15))\n",
    "plt.title('laminar specific regionalized array', fontsize = 32)\n",
    "sns.set(font_scale=2.1)\n",
    "sns.heatmap(LayerDf)\n",
    "ax = plt.gca()\n",
    "ax.xaxis.set_tick_params(labelsize = 22)\n",
    "ax.yaxis.set_tick_params(labelsize = 22)\n",
    "plt.xticks(rotation = 290)\n",
    "plt.yticks(rotation = 30)\n",
    "#plt.savefig('paper1_figures/Merged_RegionalizedArray.jpg')\n",
    "#plt.savefig('paper1_figures/Merged_RegionalizedArray.eps')"
   ]
  },
  {
   "cell_type": "markdown",
   "metadata": {},
   "source": [
    "### Fitting projection data with gene modules"
   ]
  },
  {
   "cell_type": "code",
   "execution_count": 8,
   "metadata": {},
   "outputs": [],
   "source": [
    "#Components,Code, dlsc_mdl = MesoPred.DictionaryDecomposition(ClfResults_ridge['wild_type']['Gene Expression'],\n",
    "                                                             #n_comp = 200)\n",
    "#pk.dump(Code, open('saves/Code.pkl','wb'))\n",
    "#pk.dump(Components, open('saves/Components.pkl','wb'))\n",
    "#pk.dump(dlsc_mdl, open('saves/dlsc_mdl.pkl','wb'))\n",
    "Atoms = pk.load(open('paper1_figures/for_paul_20_6_19/Atoms.pkl', 'rb'))\n",
    "Code = pk.load(open('paper1_figures/for_paul_20_6_19/Code.pkl', 'rb'))\n",
    "dlsc_mdl = pk.load(open('paper1_figures/for_paul_20_6_19/dlsc_mdl.pkl', 'rb'))  "
   ]
  },
  {
   "cell_type": "raw",
   "metadata": {},
   "source": [
    "from sklearn.linear_model import RandomizedLasso\n",
    "from sklearn.pipeline import Pipeline\n",
    "\n",
    "scaler              = StandardScaler()\n",
    "module_dict         = OrderedDict()\n",
    "for key in ClfResults_ridge.keys():\n",
    "    module_dict[key] = []\n",
    "    for tracer in range(np.shape(ClfResults_ridge[key]['y_actual'])[1]):\n",
    "        stability_selection = RandomizedLasso(normalize = False, alpha = 0.01)\n",
    "        pipeline            = Pipeline([('scaler', scaler), ('stability_selection', stability_selection)])\n",
    "        pipeline.fit(Code, ClfResults_ridge[key]['y_actual'][:,tracer])\n",
    "        tmp = pipeline.get_params()['stability_selection'].get_support()\n",
    "        module_dict[key].append([i for i, x in enumerate(tmp) if x])\n",
    "        print key, np.median([len(val) for val in module_dict[key]])\n",
    "            "
   ]
  },
  {
   "cell_type": "code",
   "execution_count": 47,
   "metadata": {},
   "outputs": [
    {
     "name": "stdout",
     "output_type": "stream",
     "text": [
      "(3318, 200) (200, 428)\n"
     ]
    },
    {
     "name": "stderr",
     "output_type": "stream",
     "text": [
      "/home/ntimonidis/anaconda2/lib/python2.7/site-packages/sklearn/utils/deprecation.py:58: DeprecationWarning: Class RandomizedLasso is deprecated; The class RandomizedLasso is deprecated in 0.19 and will be removed in 0.21.\n",
      "  warnings.warn(msg, category=DeprecationWarning)\n"
     ]
    }
   ],
   "source": [
    "#Atoms, Code, dlsc = MesoPred.DictionaryDecomposition(ClfResults_ridge['wild_type']['Gene Expression'], n_comp = 200)\n",
    "#pk.dump(Atoms, open('saves/Atoms_last.pkl','wb'))\n",
    "#pk.dump(Code, open('saves/Code_last.pkl','wb'))  \n",
    "#pk.dump(dlsc, open('saves/dlsc_last.pkl','wb'))   \n",
    "#pk.dump(module_dict,open('module_to_tracer.pkl','wb'))\n",
    "#module_dict = pk.load(open('module_to_tracer.pkl','rb'))\n",
    "#Atoms = pk.load(open('saves/Atoms_last.pkl','rb'))\n",
    "#Code = pk.load(open('saves/Code_last.pkl','rb'))\n",
    "from sklearn.pipeline import Pipeline\n",
    "from sklearn.linear_model import RandomizedLasso\n",
    "stability_selection = RandomizedLasso(normalize = False, alpha = 0.01)\n",
    "gene_scores = np.asarray([tracer[0] for key in ClfResults_ridge.keys() for tracer in ClfResults_ridge[key]['r2']])\n",
    "print Atoms.shape,Code.shape"
   ]
  },
  {
   "cell_type": "markdown",
   "metadata": {},
   "source": [
    "### Experimental Module Analysis 12-06-2019"
   ]
  },
  {
   "cell_type": "markdown",
   "metadata": {},
   "source": [
    "### The bad guy: 133 wild-type"
   ]
  },
  {
   "cell_type": "code",
   "execution_count": null,
   "metadata": {},
   "outputs": [],
   "source": [
    "ridge_params = {'alpha': [1,10,100,250,500,1000],\n",
    "                'fit_intercept' : [True], 'normalize' : [False]}\n",
    "y_meas_scale = StandardScaler().fit_transform(ClfResults_ridge['wild_type']['y_actual'])\n",
    "y_pred = np.zeros(np.shape(ClfResults_ridge[key]['y_actual']))\n",
    "ridge_mdl = Ridge(alpha = 200, fit_intercept = True, normalize = False)\n",
    "#ridge_mdl = GridSearchCV(Ridge(), param_grid = ridge_params, \n",
    "    #                    scoring = 'neg_mean_squared_error', \n",
    "    #                     cv = 3, n_jobs = -1)\n",
    "for train, test in MesoPred.params['validation'].split(Code,y_meas_scale):\n",
    "\n",
    "    ridge_mdl.fit(Code_scale[train,:], y_meas_scale[train,83])\n",
    "    y_pred[test,83] = ridge_mdl.predict(Code_scale[test]) \n",
    "    \n",
    "r2 = metrics.r2_score(y_meas_scale[:,83], y_pred[:,83])    \n",
    "print r2"
   ]
  },
  {
   "cell_type": "code",
   "execution_count": 11,
   "metadata": {},
   "outputs": [],
   "source": [
    "ridge_params = {'alpha': [1,10,100,200, 250,500,1000],\n",
    "                'fit_intercept' : [True], 'normalize' : [False]}\n",
    "#ridge_mdl = GridSearchCV(Ridge(), param_grid = ridge_params, \n",
    "#                                 scoring = 'neg_mean_squared_error', \n",
    "#                                 cv = 3, n_jobs = -1)\n",
    "ridge_mdl = Ridge(alpha = 350, fit_intercept = True, normalize = False)\n",
    "ridge_pred = {}\n",
    "\n",
    "for key in ClfResults_ridge.keys():\n",
    "    module_to_proj = []\n",
    "    y_pred = np.zeros(np.shape(ClfResults_ridge[key]['y_actual']))\n",
    "    Code_scale = StandardScaler().fit_transform(Code) \n",
    "    y_meas_scale = StandardScaler().fit_transform(ClfResults_ridge[key]['y_actual'])\n",
    "    \n",
    "    ridge_pred[key] = []\n",
    "    for tracer in range(len(y_meas_scale[0])):    \n",
    "        alpha_list = []\n",
    "        for train, test in MesoPred.params['validation'].split(Code,y_meas_scale):\n",
    "            ridge_mdl.fit(Code_scale[train,:], y_meas_scale[train,tracer])\n",
    "            y_pred[test,tracer] = ridge_mdl.predict(Code_scale[test]) \n",
    "        \n",
    "        #ridge_pred[key] = metrics.r2_score(y_meas_scale, y_pred, multioutput = 'raw_values')\n",
    "        ridge_pred[key].append(metrics.r2_score(y_meas_scale[:,tracer], y_pred[:,tracer]))\n",
    "     \n",
    "all_scores = np.asarray([tracer for key in ridge_pred.keys()\\\n",
    "                                       for tracer in ridge_pred[key]])   \n",
    "   \n",
    "clear_output()\n",
    "            "
   ]
  },
  {
   "cell_type": "code",
   "execution_count": 54,
   "metadata": {},
   "outputs": [
    {
     "name": "stdout",
     "output_type": "stream",
     "text": [
      "0.0569236504383 0.672915253438 0.436265852155\n"
     ]
    },
    {
     "data": {
      "image/png": "[encoded data removed]",
      "text/plain": [
       "<Figure size 432x288 with 1 Axes>"
      ]
     },
     "metadata": {
      "needs_background": "light"
     },
     "output_type": "display_data"
    }
   ],
   "source": [
    "plt.boxplot(all_scores)\n",
    "print np.min(all_scores), np.max(all_scores), np.median(all_scores)"
   ]
  },
  {
   "cell_type": "code",
   "execution_count": 9,
   "metadata": {},
   "outputs": [],
   "source": [
    "ridge_params = {'alpha': [1,10,100,250,500,1000],\n",
    "                'fit_intercept' : [True], 'normalize' : [False]}\n",
    "ridge_mdl = GridSearchCV(Ridge(), param_grid = ridge_params, \n",
    "                                 scoring = 'neg_mean_squared_error', \n",
    "                                 cv = 3, n_jobs = -1)                                       \n",
    "ridge_pred_prm = {}\n",
    "for key in ClfResults_ridge.keys():\n",
    "    module_to_proj = []\n",
    "    y_pred = np.zeros(np.shape(ClfResults_ridge[key]['y_actual']))\n",
    "    Code_scale = StandardScaler().fit_transform(Code) \n",
    "    y_meas_scale = StandardScaler().fit_transform(ClfResults_ridge[key]['y_actual'])\n",
    "    ridge_pred_prm[key] = []\n",
    "    for prm_num in range(25):\n",
    "        y_meas_prm = np.random.permutation(y_meas_scale)\n",
    "        for train, test in MesoPred.params['validation'].split(Code, y_meas_prm):\n",
    "            ridge_mdl.fit(Code_scale[train], y_meas_prm[train])\n",
    "            y_pred[test] = ridge_mdl.predict(Code_scale[test]) \n",
    "        ridge_pred_prm[key].append(metrics.r2_score(y_meas_prm, y_pred, multioutput = 'raw_values'))\n",
    "    ridge_pred_prm[key] = np.median(ridge_pred_prm[key], axis = 0)  \n",
    "all_scores_prm = np.asarray([tracer for key in ridge_pred_prm.keys()\\\n",
    "                                       for tracer in ridge_pred_prm[key]])   \n",
    "   \n",
    "clear_output()\n",
    "            "
   ]
  },
  {
   "cell_type": "code",
   "execution_count": 16,
   "metadata": {},
   "outputs": [],
   "source": [
    "#pk.dump(all_scores_prm, open('paper1_figures/module_perm_analysis.pkl','wb'))\n",
    "all_scores_prm = pk.load(open('paper1_figures/module_perm_analysis.pkl','rb'))"
   ]
  },
  {
   "cell_type": "code",
   "execution_count": 14,
   "metadata": {},
   "outputs": [
    {
     "data": {
      "image/png": "[encoded data removed]",
      "text/plain": [
       "<Figure size 1152x432 with 1 Axes>"
      ]
     },
     "metadata": {
      "needs_background": "light"
     },
     "output_type": "display_data"
    }
   ],
   "source": [
    "#all_scores_prm = np.asarray([tracer for key in ridge_pred_prm.keys()\\\n",
    "#                                       for tracer in ridge_pred_prm[key]])  \n",
    "\n",
    "plt.figure(figsize = (16,6))\n",
    "box1 = plt.boxplot([ridge_pred['Cux2-IRES-Cre'],ridge_pred['Emx1-IRES-Cre'],ridge_pred['wild_type']], 0, 'gD')\n",
    "box2 = plt.boxplot([ridge_pred_prm['Cux2-IRES-Cre'],ridge_pred_prm['Emx1-IRES-Cre'],ridge_pred_prm['wild_type']], 0, 'r')\n",
    "#box1 = plt.boxplot([ridge_pred[key] for key in ridge_pred.keys()], 0, 'gD')\n",
    "#box2 = plt.boxplot([ridge_pred_prm[key] for key in ridge_pred.keys()], 0, 'r')   \n",
    "for key in box1.keys():\n",
    "        for bp1,bp2 in zip(box1[key],box2[key]):\n",
    "            bp1.set(linewidth = 2)\n",
    "            bp2.set(linewidth = 2)\n",
    "plt.xticks([1,2,3],['Cux2-IRES-Cre','Emx1-IRES-Cre','wild_type'])\n",
    "#plt.xticks([idx+1 for idx in range(len(ridge_pred.keys()))],[key for key in ridge_pred.keys()], rotation = 300)\n",
    "plt.yticks(np.arange(0.0,1.1,0.1))\n",
    "ax = plt.gca()\n",
    "ax.xaxis.set_tick_params(labelsize = 20)\n",
    "ax.yaxis.set_tick_params(labelsize = 20)\n",
    "plt.ylabel(r'$r^2$', fontsize = 20)\n",
    "plt.savefig('paper1_figures/for_paul_20_6_19/permutation_for_modules.jpg')\n",
    "plt.show()"
   ]
  },
  {
   "cell_type": "markdown",
   "metadata": {},
   "source": [
    "### End of experimental module analysis"
   ]
  },
  {
   "cell_type": "markdown",
   "metadata": {},
   "source": [
    "### Experimental module analysis 16-06-2019"
   ]
  },
  {
   "cell_type": "code",
   "execution_count": 27,
   "metadata": {},
   "outputs": [
    {
     "name": "stdout",
     "output_type": "stream",
     "text": [
      "0.00435714285714 14000\n"
     ]
    }
   ],
   "source": [
    "sample_num = 1000\n",
    "srt_total_performance = pk.load(open('r2_srt_total_performance.pkl','rb'))\n",
    "total_cre_r2 = [tmp[1] for tmp in srt_total_performance if tmp[0] != 'wild_type']\n",
    "sample_size_sets = [len(ClfResults_ridge[key]['y_actual'][0]) for key in ClfResults_ridge.keys() if key != 'wild_type']\n",
    "cre_median = np.median(total_cre_r2); cre_iqr = sci.stats.iqr(total_cre_r2)\n",
    "wt_size = np.shape(ClfResults_ridge['wild_type']['y_actual'])[1]\n",
    "\n",
    "cnt1 = 0; cnt2 = 0; med_dev = []; iqr_dev = []\n",
    "#for sample_set in sample_size_sets:\n",
    "for key in ClfResults_ridge.keys(): \n",
    "    if key == 'wild_type': continue\n",
    "    sample_set = np.shape(ClfResults_ridge[key]['y_actual'])[1]\n",
    "    for sample_run in range(sample_num):\n",
    "        wt_subset = np.random.choice(wt_size, sample_set)\n",
    "        A = ClfResults_ridge['wild_type']['y_actual'][:,wt_subset]\n",
    "        B = ClfResults_ridge['wild_type']['y_preds'][:,wt_subset]\n",
    "        wt_r2_sub = metrics.r2_score(A,B)\n",
    "        #if np.max(wt_r2_sub) > np.max(total_cre_r2) or np.min(wt_r2_sub) < np.min(total_cre_r2):\n",
    "        #if wt_r2_sub > np.max(total_cre_r2) or wt_r2_sub < np.min(total_cre_r2): \n",
    "        #print wt_r2_sub, cre_median + 1*cre_iqr, cre_median - 1*cre_iqr\n",
    "        if wt_r2_sub > cre_median + 1*cre_iqr or wt_r2_sub < cre_median - 1*cre_iqr:  \n",
    "            cnt1 += 1\n",
    "            \n",
    "print cnt1/(1.0*len(sample_size_sets)*sample_num), len(sample_size_sets)*sample_num"
   ]
  },
  {
   "cell_type": "markdown",
   "metadata": {},
   "source": [
    "#### Verdict: bullshit results, no statistical significance whatever - > End of experimental section"
   ]
  },
  {
   "cell_type": "code",
   "execution_count": 9,
   "metadata": {},
   "outputs": [],
   "source": [
    "ridge_params = {'alpha': [1,10,100,250,500,1000],\n",
    "                'fit_intercept' : [True], 'normalize' : [False]}\n",
    "                                       \n",
    "ridge_pred = {}\n",
    "for key in ClfResults_ridge.keys():\n",
    "    module_to_proj = []\n",
    "    y_pred = np.zeros(np.shape(ClfResults_ridge[key]['y_actual']))\n",
    "    Code_scale = StandardScaler().fit_transform(Code) \n",
    "    y_meas_scale = StandardScaler().fit_transform(ClfResults_ridge[key]['y_actual'])\n",
    "    for train, test in MesoPred.params['validation'].split(Code,ClfResults_ridge[key]['y_actual']):\n",
    "        ridge_mdl = GridSearchCV(Ridge(), param_grid = ridge_params, \n",
    "                             scoring = 'neg_mean_squared_error', \n",
    "                             cv = 3, n_jobs = -1)\n",
    "        ridge_mdl.fit(Code_scale[train], y_meas_scale[train])\n",
    "        y_pred[test] = ridge_mdl.predict(Code_scale[test]) \n",
    "    ridge_pred[key] = metrics.r2_score(y_meas_scale, y_pred, multioutput = 'raw_values')\n",
    "all_scores = np.asarray([tracer for key in ridge_pred.keys()\\\n",
    "                                       for tracer in ridge_pred[key]])   \n",
    "   \n",
    "clear_output()\n",
    "            "
   ]
  },
  {
   "cell_type": "raw",
   "metadata": {},
   "source": [
    "Store_now = {'scores': [], 'comp' : []}\n",
    "Comp_set = [10,25,50,100,150,200,250,300,400,500,1000]\n",
    "ridge_params = {'alpha': [1,10,100,250,500,1000],\n",
    "                     'fit_intercept' : [True], 'normalize' : [False]}\n",
    "\n",
    "for comp in Comp_set:\n",
    "    Atoms, Code, dlsc = MesoPred.DictionaryDecomposition(ClfResults_ridge['wild_type']['Gene Expression'], \n",
    "                                                         n_comp = comp)\n",
    "    ridge_pred = {}\n",
    "    for key in ClfResults_ridge.keys():\n",
    "        module_to_proj = []\n",
    "        y_pred = np.zeros(np.shape(ClfResults_ridge[key]['y_actual']))\n",
    "        Code_scale = StandardScaler().fit_transform(Code) \n",
    "        y_meas_scale = StandardScaler().fit_transform(ClfResults_ridge[key]['y_actual'])\n",
    "        for train, test in MesoPred.params['validation'].split(Code,ClfResults_ridge[key]['y_actual']):\n",
    "            ridge_mdl = GridSearchCV(Ridge(), param_grid = ridge_params, \n",
    "                                 scoring = 'neg_mean_squared_error', \n",
    "                                 cv = 3, n_jobs = -1)\n",
    "            ridge_mdl.fit(Code_scale[train], y_meas_scale[train])\n",
    "            y_pred[test] = ridge_mdl.predict(Code_scale[test]) \n",
    "        ridge_pred[key] = metrics.r2_score(y_meas_scale, y_pred, multioutput = 'raw_values')\n",
    "    all_scores = np.asarray([tracer for key in ridge_pred.keys()\\\n",
    "                                           for tracer in ridge_pred[key]])   \n",
    "    print comp, np.max(all_scores), np.min(all_scores), np.median(all_scores)\n",
    "    Store_now['scores'].append(all_scores)\n",
    "\n",
    "            "
   ]
  },
  {
   "cell_type": "code",
   "execution_count": null,
   "metadata": {},
   "outputs": [],
   "source": [
    "Store_now = pk.load(open('saves/Multple_module_predictions.pkl','rb'))\n",
    "Store_now['scores'].insert(5, all_scores)\n",
    "Store_now['scores'].pop(6)\n",
    "Store_now['scores'].pop(6)\n",
    "print len(Store_now['scores'])"
   ]
  },
  {
   "cell_type": "raw",
   "metadata": {},
   "source": [
    "ridge_pred_constr = {}\n",
    "scaler               = StandardScaler()\n",
    "for key in ClfResults_ridge.keys():\n",
    "    module_to_proj = []\n",
    "    y_pred = np.zeros(np.shape(ClfResults_ridge[key]['y_actual']))\n",
    "    G_Code_scale = StandardScaler().fit_transform(G_Code) \n",
    "    y_meas_scale = StandardScaler().fit_transform(ClfResults_ridge[key]['y_actual'])\n",
    "    for train, test in MesoPred.params['validation'].split(G_Code,ClfResults_ridge[key]['y_actual']):\n",
    "        ridge_mdl = GridSearchCV(Ridge(), param_grid = ridge_params, \n",
    "                             scoring = 'r2', \n",
    "                             cv = 3, n_jobs = -1)\n",
    "        ridge_mdl.fit(G_Code_scale[train], y_meas_scale[train])\n",
    "        y_pred[test] = ridge_mdl.predict(G_Code_scale[test]) \n",
    "    ridge_pred_constr[key] = metrics.r2_score(y_meas_scale, y_pred, multioutput = 'raw_values')\n",
    "    #plt.boxplot(ridge_pred)\n",
    "pk.dump(ridge_pred_constr, open('paper1_figures/ridge_pred_constr.pkl','wb'))    \n",
    "clear_output()"
   ]
  },
  {
   "cell_type": "raw",
   "metadata": {},
   "source": [
    "bad_mdls = len([val for val in Store_now['scores'][5] if val < 0.2])\n",
    "pk.dump(Store_now, open('saves/Multple_module_predictions.pkl','wb'))\n",
    "print bad_mdls"
   ]
  },
  {
   "cell_type": "code",
   "execution_count": 39,
   "metadata": {},
   "outputs": [
    {
     "name": "stdout",
     "output_type": "stream",
     "text": [
      "[0.28098187973812017, 0.37553419457683057, 0.43678936308627758, 0.47405914233651525, 0.49871757810402528, 0.50691708066394203, 0.49283898848066676, 0.48959792893428955, 0.39274776743984663, 0.22773533574338922]\n",
      "['10', '25', '50', '100', '150', '200', '300', '400', '500', '1000']\n"
     ]
    },
    {
     "data": {
      "image/png": "[encoded data removed]",
      "text/plain": [
       "<Figure size 864x432 with 1 Axes>"
      ]
     },
     "metadata": {
      "needs_background": "light"
     },
     "output_type": "display_data"
    }
   ],
   "source": [
    "#Comp_set = [10,25,50,100,150,200,250,300,400,500,1000]\n",
    "#scores   = [np.median(val) for val in Store_now['scores']]\n",
    "#coef_num = [str(val) for val in Comp_set]\n",
    "#coef_num.pop(6)\n",
    "#pk.dump([scores,coef_num],open('paper1_figures/dictionary_to_performance.pkl','wb'))\n",
    "\n",
    "[scores,coef_num] = pk.load(open('paper1_figures/dictionary_to_performance.pkl','rb'))\n",
    "plt.figure(figsize = (12,6))\n",
    "plt.bar(coef_num, scores)\n",
    "ax = plt.gca(); ax.xaxis.set_tick_params(labelsize = 16); ax.yaxis.set_tick_params(labelsize = 16)\n",
    "plt.ylabel(r'median $r^2$',fontsize = 18)\n",
    "plt.xlabel('dictionary set size', fontsize = 18)\n",
    "plt.savefig('paper1_figures/dictionary_to_performance.jpg')\n",
    "plt.savefig('paper1_figures/dictionary_to_performance.eps')\n",
    "print scores\n",
    "print coef_num"
   ]
  },
  {
   "cell_type": "code",
   "execution_count": null,
   "metadata": {},
   "outputs": [],
   "source": [
    "print sci.stats.iqr(all_scores), sci.stats.iqr(gene_scores), np.max(all_scores)"
   ]
  },
  {
   "cell_type": "code",
   "execution_count": 15,
   "metadata": {},
   "outputs": [
    {
     "data": {
      "image/png": "[encoded data removed]",
      "text/plain": [
       "<Figure size 1152x432 with 1 Axes>"
      ]
     },
     "metadata": {
      "needs_background": "light"
     },
     "output_type": "display_data"
    }
   ],
   "source": [
    "fig = plt.figure(figsize = (16,6))\n",
    "ax = plt.gca()\n",
    "#plt.tight_layout()\n",
    "#plt.rcParams['figure.figsize']\n",
    "plt.rcParams['axes.facecolor'] = 'white'\n",
    "box = plt.boxplot([all_scores,gene_scores], 0, 'gD', widths = 0.6, whis = [5,95])\n",
    "for key in box.keys():\n",
    "        for bp in box[key]:\n",
    "            bp.set(linewidth = 2)\n",
    "plt.yticks(np.arange(0.0,1.1,0.1))\n",
    "ax.xaxis.set_tick_params(labelsize = 20)\n",
    "ax.yaxis.set_tick_params(labelsize = 20)\n",
    "plt.xticks([1,2],['Module predictions','Gene predictions'])\n",
    "plt.ylabel(r'$r^2$', fontsize = 20)\n",
    "plt.savefig('paper1_figures/module_to_gene_pred.jpg')\n",
    "plt.savefig('paper1_figures/module_to_gene_pred.eps')\n",
    "plt.show()"
   ]
  },
  {
   "cell_type": "code",
   "execution_count": null,
   "metadata": {},
   "outputs": [],
   "source": [
    "#med_unc_scores = [val for key in ridge_pred.keys() for val in ridge_pred[key]]\n",
    "#med_cons_scores = [val for key in ridge_pred_constr.keys() for val in ridge_pred_constr[key]]\n",
    "#pk.dump([med_unc_scores,med_cons_scores], open('paper1_figures/Comparison_of_modules.pkl','wb'))\n",
    "\n",
    "[med_unc_scores,med_cons_scores] = pk.load(open('paper1_figures/Comparison_of_modules.pkl','rb'))\n",
    "plt.figure(figsize = (16,6))\n",
    "plt.hist(med_unc_scores)\n",
    "plt.hist(med_cons_scores)\n",
    "ax = plt.gca()\n",
    "ax.yaxis.set_tick_params(labelsize = 16)\n",
    "ax.xaxis.set_tick_params(labelsize = 16)\n",
    "plt.xlabel(r'$r^2$ score', fontsize = 20)\n",
    "plt.ylabel('module frequency', fontsize = 20)\n",
    "plt.legend(['uncostrained', 'constrained'],prop={'size': 20})\n",
    "plt.savefig('paper1_figures/Comparison_of_modules.jpg')\n",
    "plt.savefig('paper1_figures/Comparison_of_modules.eps')"
   ]
  },
  {
   "cell_type": "raw",
   "metadata": {},
   "source": [
    "unc_outliers = [MesoPred.ConDict[key]['structure-abbrev'] for key in ridge_pred.keys() \n",
    "                  for idx,val in enumerate(ridge_pred[key]) if val < 0.1]\n",
    "cons_outliers = [MesoPred.ConDict[key]['structure-abbrev'] for key in ridge_pred.keys() \n",
    "                  for idx,val in enumerate(ridge_pred_constr[key]) if val < 0.1]"
   ]
  },
  {
   "cell_type": "code",
   "execution_count": null,
   "metadata": {},
   "outputs": [],
   "source": [
    "sel_tracer = np.argmax(ridge_pred)\n",
    "pipeline            = Pipeline([('scaler', scaler), ('stability_selection', stability_selection)])\n",
    "pipeline.fit(Code, ClfResults_ridge[key]['y_actual'][:,sel_tracer])\n",
    "tmp = pipeline.get_params()['stability_selection'].get_support()\n",
    "mods_again = [i for i, x in enumerate(tmp) if x]\n",
    "stability_scores = pipeline.get_params()['stability_selection'].scores_\n",
    "module_blacklist = np.argsort(stability_scores)[::-1][0:19]\n",
    "pk.dump(module_blacklist, open('paper1_figures/module_blacklist.pkl','wb'))\n",
    "clear_output()"
   ]
  },
  {
   "cell_type": "code",
   "execution_count": null,
   "metadata": {},
   "outputs": [],
   "source": [
    "MesoPred.PlotStatistics(ClfResults_ridge, structure_summary = True,\n",
    "                        laminar_summary = False, tracer_category = 'wild_type',\n",
    "                        selected_tracer = 46)\n",
    "MesoPred.PlotStatistics(Code, structure_summary = True,\n",
    "                        laminar_summary = False, tracer_category = 'gene module',\n",
    "                        selected_tracer = 118)\n",
    "MesoPred.PlotStatistics(Code, structure_summary = True,\n",
    "                        laminar_summary = False, tracer_category = 'gene module',\n",
    "                        selected_tracer = 46)\n",
    "MesoPred.PlotStatistics(Code, structure_summary = True,\n",
    "                        laminar_summary = False, tracer_category = 'gene module',\n",
    "                        selected_tracer = 117)"
   ]
  },
  {
   "cell_type": "code",
   "execution_count": null,
   "metadata": {},
   "outputs": [],
   "source": [
    "sel_tracer = [idx for idx,val in enumerate(MesoPred.ConDict['wild_type']['structure-abbrev']) if val == 'PAA'][0]\n",
    "#BP_25 = PL.BrainPlotter(resolution = 25)\n",
    "BP_10 = PL.BrainPlotter(resolution = 10)\n",
    "#BP_25.fit(projection = ClfResults_ridge['wild_type']['y_actual'][:,sel_tracer], \n",
    "#          chosen_indices = MesoPred.params['remaining_indices'])\n",
    "BP_10.fit(projection = ClfResults_ridge['wild_type']['y_actual'][:,sel_tracer], \n",
    "          chosen_indices = MesoPred.params['remaining_indices'])\n",
    "#pk.dump([BP_25, BP_10], open('paper1_figures/paa_volume.pkl','wb')) \n",
    "\n",
    "#[BP_25, BP_10] = pk.load(open('paper1_figures/paa_volume.pkl','rb'))\n",
    "#BP_25.plot_slice(savefile = 'paper1_figures/brain_slice_wild_type_{}.jpg'.format(sel_tracer))\n",
    "BP_10.plot_flatmap(savefile = 'paper1_figures/flatmap_wild_type_{}.jpg'.format(sel_tracer))"
   ]
  },
  {
   "cell_type": "code",
   "execution_count": 50,
   "metadata": {},
   "outputs": [
    {
     "name": "stdout",
     "output_type": "stream",
     "text": [
      "0.397684480622 46\n"
     ]
    },
    {
     "data": {
      "image/png": "[encoded data removed]",
      "text/plain": [
       "<Figure size 1080x432 with 2 Axes>"
      ]
     },
     "metadata": {
      "needs_background": "light"
     },
     "output_type": "display_data"
    },
    {
     "ename": "ZeroDivisionError",
     "evalue": "integer division or modulo by zero",
     "output_type": "error",
     "traceback": [
      "\u001b[0;31m---------------------------------------------------------------------------\u001b[0m",
      "\u001b[0;31mZeroDivisionError\u001b[0m                         Traceback (most recent call last)",
      "\u001b[0;32m<ipython-input-50-e5c2e429dc91>\u001b[0m in \u001b[0;36m<module>\u001b[0;34m()\u001b[0m\n\u001b[1;32m      9\u001b[0m     \u001b[0;31m#BP_25.plot_slice()\u001b[0m\u001b[0;34m\u001b[0m\u001b[0;34m\u001b[0m\u001b[0m\n\u001b[1;32m     10\u001b[0m     \u001b[0mBP_10\u001b[0m\u001b[0;34m.\u001b[0m\u001b[0mplot_flatmap\u001b[0m\u001b[0;34m(\u001b[0m\u001b[0;34m)\u001b[0m\u001b[0;34m\u001b[0m\u001b[0m\n\u001b[0;32m---> 11\u001b[0;31m     \u001b[0ma\u001b[0m \u001b[0;34m=\u001b[0m \u001b[0;36m1\u001b[0m\u001b[0;34m/\u001b[0m\u001b[0;36m0\u001b[0m\u001b[0;34m\u001b[0m\u001b[0m\n\u001b[0m",
      "\u001b[0;31mZeroDivisionError\u001b[0m: integer division or modulo by zero"
     ]
    }
   ],
   "source": [
    "sel_tracer = [idx for idx,val in enumerate(MesoPred.ConDict['wild_type']['structure-abbrev']) if val == 'PAA'][0]\n",
    "for modulo in [46,117,118]:\n",
    "    rho,pval = sci.stats.pearsonr(Code[:,modulo],ClfResults_ridge['wild_type']['y_actual'][:,sel_tracer])\n",
    "    print rho, modulo\n",
    "    #BP_25 = PL.BrainPlotter(resolution = 25)\n",
    "    BP_10 = PL.BrainPlotter(resolution = 10)\n",
    "    #BP_25.fit(projection = Code[:,modulo], chosen_indices = MesoPred.params['remaining_indices'])\n",
    "    BP_10.fit(projection = Code[:,modulo], chosen_indices = MesoPred.params['remaining_indices'])\n",
    "    #BP_25.plot_slice()\n",
    "    BP_10.plot_flatmap()"
   ]
  },
  {
   "cell_type": "code",
   "execution_count": null,
   "metadata": {},
   "outputs": [],
   "source": [
    "G_Code = pk.load(open('saves/Grange_Code.pkl','rb'))\n",
    "sel_tracer = [idx for idx,val in enumerate(MesoPred.ConDict['wild_type']['structure-abbrev']) if val == 'PAA'][0]\n",
    "for code in range(len(G_Code[0])):\n",
    "    rho = sci.stats.pearsonr(ClfResults_ridge['wild_type']['y_actual'][:,sel_tracer], G_Code[:,code])[0]\n",
    "    if rho > 0.2:\n",
    "        print code\n",
    "        BP_25 = PL.BrainPlotter(resolution = 25)\n",
    "        BP_10 = PL.BrainPlotter(resolution = 10)\n",
    "        BP_25.fit(projection = G_Code[:,code], chosen_indices = MesoPred.params['remaining_indices'])\n",
    "        BP_10.fit(projection = G_Code[:,code], chosen_indices = MesoPred.params['remaining_indices'])\n",
    "        BP_25.plot_slice(savefile = 'paper1_figures/grange_brain_slice_module_{}.jpg'.format(code))\n",
    "        BP_10.plot_flatmap(savefile = 'paper1_figures/grange_flatmap_module_{}.jpg'.format(code))\n",
    " "
   ]
  },
  {
   "cell_type": "markdown",
   "metadata": {},
   "source": [
    "### Experimentation: Apply the Oh et al model to our data"
   ]
  },
  {
   "cell_type": "code",
   "execution_count": null,
   "metadata": {},
   "outputs": [],
   "source": [
    "MesoPred.GetLayerResolvedArray(creFilter = ['Cux2-IRES-Cre'])"
   ]
  }
 ],
 "metadata": {
  "kernelspec": {
   "display_name": "Python 2",
   "language": "python",
   "name": "python2"
  },
  "language_info": {
   "codemirror_mode": {
    "name": "ipython",
    "version": 2
   },
   "file_extension": ".py",
   "mimetype": "text/x-python",
   "name": "python",
   "nbconvert_exporter": "python",
   "pygments_lexer": "ipython2",
   "version": "2.7.15"
  }
 },
 "nbformat": 4,
 "nbformat_minor": 1
}
